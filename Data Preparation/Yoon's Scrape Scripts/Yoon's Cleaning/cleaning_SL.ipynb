{
 "metadata": {
  "language_info": {
   "codemirror_mode": {
    "name": "ipython",
    "version": 3
   },
   "file_extension": ".py",
   "mimetype": "text/x-python",
   "name": "python",
   "nbconvert_exporter": "python",
   "pygments_lexer": "ipython3",
   "version": "3.8.5"
  },
  "orig_nbformat": 2,
  "kernelspec": {
   "name": "python385jvsc74a57bd0ae04ee68dffee34b20423ee6009830f7967d7857e9eaf0705903c4e3b1f453d9",
   "display_name": "Python 3.8.5 64-bit ('FTDS': conda)"
  }
 },
 "nbformat": 4,
 "nbformat_minor": 2,
 "cells": [
  {
   "cell_type": "code",
   "execution_count": 13,
   "metadata": {},
   "outputs": [],
   "source": [
    "import pandas as pd\n",
    "import numpy as np\n"
   ]
  },
  {
   "cell_type": "code",
   "execution_count": 14,
   "metadata": {},
   "outputs": [],
   "source": [
    "df = pd.read_csv(\"Saint_Laurent.csv\") "
   ]
  },
  {
   "cell_type": "code",
   "execution_count": 15,
   "metadata": {},
   "outputs": [
    {
     "output_type": "execute_result",
     "data": {
      "text/plain": [
       "        ID Clothing Category  \\\n",
       "0        0       Mens Shirts   \n",
       "1        1       Mens Shirts   \n",
       "2        2       Mens Shirts   \n",
       "3        3       Mens Shirts   \n",
       "4        4       Mens Shirts   \n",
       "...    ...               ...   \n",
       "2135  2135   Womens Jewellry   \n",
       "2136  2136   Womens Jewellry   \n",
       "2137  2137   Womens Jewellry   \n",
       "2138  2138   Womens Jewellry   \n",
       "2139  2139   Womens Jewellry   \n",
       "\n",
       "                                                  Brand      Price  \\\n",
       "0                          saint laurent hawaiian shirt  HK$ 5,990   \n",
       "1                          shirt in striated silk voile  HK$ 8,900   \n",
       "2     shark-collar shirt in tropical silk crepe de c...  HK$ 8,500   \n",
       "3        shirt in confetti hibiscus silk crepe de chine  HK$ 7,900   \n",
       "4                 shirt in tropical silk crepe de chine  HK$ 7,900   \n",
       "...                                                 ...        ...   \n",
       "2135                  dégradé rose brooch in silk satin  HK$ 4,950   \n",
       "2136        saint laurent brooches in brass and crystal  HK$ 3,950   \n",
       "2137        saint laurent brooches in metal and crystal  HK$ 3,950   \n",
       "2138              octagon cufflinks in metal and enamel  HK$ 2,950   \n",
       "2139              pyramid cufflinks in metal and enamel  HK$ 2,950   \n",
       "\n",
       "                                              Image URL  \n",
       "0     https://saint-laurent.dam.kering.com/m/2631b1a...  \n",
       "1     https://saint-laurent.dam.kering.com/m/7dcaa75...  \n",
       "2     https://saint-laurent.dam.kering.com/m/28c9a6c...  \n",
       "3     https://saint-laurent.dam.kering.com/m/7937504...  \n",
       "4     https://saint-laurent.dam.kering.com/m/38892b6...  \n",
       "...                                                 ...  \n",
       "2135  https://saint-laurent.dam.kering.com/m/3fb158a...  \n",
       "2136  https://saint-laurent.dam.kering.com/m/3ebb553...  \n",
       "2137  https://saint-laurent.dam.kering.com/m/4a70ddf...  \n",
       "2138  https://saint-laurent.dam.kering.com/m/eec9e91...  \n",
       "2139  https://saint-laurent.dam.kering.com/m/510147b...  \n",
       "\n",
       "[2140 rows x 5 columns]"
      ],
      "text/html": "<div>\n<style scoped>\n    .dataframe tbody tr th:only-of-type {\n        vertical-align: middle;\n    }\n\n    .dataframe tbody tr th {\n        vertical-align: top;\n    }\n\n    .dataframe thead th {\n        text-align: right;\n    }\n</style>\n<table border=\"1\" class=\"dataframe\">\n  <thead>\n    <tr style=\"text-align: right;\">\n      <th></th>\n      <th>ID</th>\n      <th>Clothing Category</th>\n      <th>Brand</th>\n      <th>Price</th>\n      <th>Image URL</th>\n    </tr>\n  </thead>\n  <tbody>\n    <tr>\n      <th>0</th>\n      <td>0</td>\n      <td>Mens Shirts</td>\n      <td>saint laurent hawaiian shirt</td>\n      <td>HK$ 5,990</td>\n      <td>https://saint-laurent.dam.kering.com/m/2631b1a...</td>\n    </tr>\n    <tr>\n      <th>1</th>\n      <td>1</td>\n      <td>Mens Shirts</td>\n      <td>shirt in striated silk voile</td>\n      <td>HK$ 8,900</td>\n      <td>https://saint-laurent.dam.kering.com/m/7dcaa75...</td>\n    </tr>\n    <tr>\n      <th>2</th>\n      <td>2</td>\n      <td>Mens Shirts</td>\n      <td>shark-collar shirt in tropical silk crepe de c...</td>\n      <td>HK$ 8,500</td>\n      <td>https://saint-laurent.dam.kering.com/m/28c9a6c...</td>\n    </tr>\n    <tr>\n      <th>3</th>\n      <td>3</td>\n      <td>Mens Shirts</td>\n      <td>shirt in confetti hibiscus silk crepe de chine</td>\n      <td>HK$ 7,900</td>\n      <td>https://saint-laurent.dam.kering.com/m/7937504...</td>\n    </tr>\n    <tr>\n      <th>4</th>\n      <td>4</td>\n      <td>Mens Shirts</td>\n      <td>shirt in tropical silk crepe de chine</td>\n      <td>HK$ 7,900</td>\n      <td>https://saint-laurent.dam.kering.com/m/38892b6...</td>\n    </tr>\n    <tr>\n      <th>...</th>\n      <td>...</td>\n      <td>...</td>\n      <td>...</td>\n      <td>...</td>\n      <td>...</td>\n    </tr>\n    <tr>\n      <th>2135</th>\n      <td>2135</td>\n      <td>Womens Jewellry</td>\n      <td>dégradé rose brooch in silk satin</td>\n      <td>HK$ 4,950</td>\n      <td>https://saint-laurent.dam.kering.com/m/3fb158a...</td>\n    </tr>\n    <tr>\n      <th>2136</th>\n      <td>2136</td>\n      <td>Womens Jewellry</td>\n      <td>saint laurent brooches in brass and crystal</td>\n      <td>HK$ 3,950</td>\n      <td>https://saint-laurent.dam.kering.com/m/3ebb553...</td>\n    </tr>\n    <tr>\n      <th>2137</th>\n      <td>2137</td>\n      <td>Womens Jewellry</td>\n      <td>saint laurent brooches in metal and crystal</td>\n      <td>HK$ 3,950</td>\n      <td>https://saint-laurent.dam.kering.com/m/4a70ddf...</td>\n    </tr>\n    <tr>\n      <th>2138</th>\n      <td>2138</td>\n      <td>Womens Jewellry</td>\n      <td>octagon cufflinks in metal and enamel</td>\n      <td>HK$ 2,950</td>\n      <td>https://saint-laurent.dam.kering.com/m/eec9e91...</td>\n    </tr>\n    <tr>\n      <th>2139</th>\n      <td>2139</td>\n      <td>Womens Jewellry</td>\n      <td>pyramid cufflinks in metal and enamel</td>\n      <td>HK$ 2,950</td>\n      <td>https://saint-laurent.dam.kering.com/m/510147b...</td>\n    </tr>\n  </tbody>\n</table>\n<p>2140 rows × 5 columns</p>\n</div>"
     },
     "metadata": {},
     "execution_count": 15
    }
   ],
   "source": [
    "df"
   ]
  },
  {
   "cell_type": "code",
   "execution_count": 16,
   "metadata": {},
   "outputs": [],
   "source": [
    "df2 = pd.read_csv(\"Saint_Laurent2.csv\")"
   ]
  },
  {
   "cell_type": "code",
   "execution_count": 17,
   "metadata": {},
   "outputs": [],
   "source": [
    "df = df.append(df2)"
   ]
  },
  {
   "cell_type": "code",
   "execution_count": 18,
   "metadata": {},
   "outputs": [
    {
     "output_type": "execute_result",
     "data": {
      "text/plain": [
       "    ID             Clothing Category  \\\n",
       "0    0                   Mens Shirts   \n",
       "1    1                   Mens Shirts   \n",
       "2    2                   Mens Shirts   \n",
       "3    3                   Mens Shirts   \n",
       "4    4                   Mens Shirts   \n",
       "..  ..                           ...   \n",
       "50  50  Mens T-shirt_and_Sweatshirts   \n",
       "51  51  Mens T-shirt_and_Sweatshirts   \n",
       "52  52  Mens T-shirt_and_Sweatshirts   \n",
       "53  53  Mens T-shirt_and_Sweatshirts   \n",
       "54  54  Mens T-shirt_and_Sweatshirts   \n",
       "\n",
       "                                                Brand      Price  \\\n",
       "0                        saint laurent hawaiian shirt  HK$ 5,990   \n",
       "1                        shirt in striated silk voile  HK$ 8,900   \n",
       "2   shark-collar shirt in tropical silk crepe de c...  HK$ 8,500   \n",
       "3      shirt in confetti hibiscus silk crepe de chine  HK$ 7,900   \n",
       "4               shirt in tropical silk crepe de chine  HK$ 7,900   \n",
       "..                                                ...        ...   \n",
       "50                           tank top in linen jersey  HK$ 2,690   \n",
       "51                striped monogram tank top in jersey  HK$ 2,690   \n",
       "52     palm tank top in lamé embroidered linen jersey  HK$ 7,900   \n",
       "53          tie-dye swim trunks in crinkled polyamide  HK$ 5,490   \n",
       "54         nocturnal leopard swim trunks in polyamide  HK$ 5,490   \n",
       "\n",
       "                                            Image URL  Unnamed: 0  \n",
       "0   https://saint-laurent.dam.kering.com/m/2631b1a...         NaN  \n",
       "1   https://saint-laurent.dam.kering.com/m/7dcaa75...         NaN  \n",
       "2   https://saint-laurent.dam.kering.com/m/28c9a6c...         NaN  \n",
       "3   https://saint-laurent.dam.kering.com/m/7937504...         NaN  \n",
       "4   https://saint-laurent.dam.kering.com/m/38892b6...         NaN  \n",
       "..                                                ...         ...  \n",
       "50  https://saint-laurent.dam.kering.com/m/1d47aad...         0.0  \n",
       "51  https://saint-laurent.dam.kering.com/m/450ddad...         0.0  \n",
       "52  https://saint-laurent.dam.kering.com/m/626d965...         0.0  \n",
       "53  https://saint-laurent.dam.kering.com/m/325f078...         0.0  \n",
       "54  https://saint-laurent.dam.kering.com/m/49879ef...         0.0  \n",
       "\n",
       "[2195 rows x 6 columns]"
      ],
      "text/html": "<div>\n<style scoped>\n    .dataframe tbody tr th:only-of-type {\n        vertical-align: middle;\n    }\n\n    .dataframe tbody tr th {\n        vertical-align: top;\n    }\n\n    .dataframe thead th {\n        text-align: right;\n    }\n</style>\n<table border=\"1\" class=\"dataframe\">\n  <thead>\n    <tr style=\"text-align: right;\">\n      <th></th>\n      <th>ID</th>\n      <th>Clothing Category</th>\n      <th>Brand</th>\n      <th>Price</th>\n      <th>Image URL</th>\n      <th>Unnamed: 0</th>\n    </tr>\n  </thead>\n  <tbody>\n    <tr>\n      <th>0</th>\n      <td>0</td>\n      <td>Mens Shirts</td>\n      <td>saint laurent hawaiian shirt</td>\n      <td>HK$ 5,990</td>\n      <td>https://saint-laurent.dam.kering.com/m/2631b1a...</td>\n      <td>NaN</td>\n    </tr>\n    <tr>\n      <th>1</th>\n      <td>1</td>\n      <td>Mens Shirts</td>\n      <td>shirt in striated silk voile</td>\n      <td>HK$ 8,900</td>\n      <td>https://saint-laurent.dam.kering.com/m/7dcaa75...</td>\n      <td>NaN</td>\n    </tr>\n    <tr>\n      <th>2</th>\n      <td>2</td>\n      <td>Mens Shirts</td>\n      <td>shark-collar shirt in tropical silk crepe de c...</td>\n      <td>HK$ 8,500</td>\n      <td>https://saint-laurent.dam.kering.com/m/28c9a6c...</td>\n      <td>NaN</td>\n    </tr>\n    <tr>\n      <th>3</th>\n      <td>3</td>\n      <td>Mens Shirts</td>\n      <td>shirt in confetti hibiscus silk crepe de chine</td>\n      <td>HK$ 7,900</td>\n      <td>https://saint-laurent.dam.kering.com/m/7937504...</td>\n      <td>NaN</td>\n    </tr>\n    <tr>\n      <th>4</th>\n      <td>4</td>\n      <td>Mens Shirts</td>\n      <td>shirt in tropical silk crepe de chine</td>\n      <td>HK$ 7,900</td>\n      <td>https://saint-laurent.dam.kering.com/m/38892b6...</td>\n      <td>NaN</td>\n    </tr>\n    <tr>\n      <th>...</th>\n      <td>...</td>\n      <td>...</td>\n      <td>...</td>\n      <td>...</td>\n      <td>...</td>\n      <td>...</td>\n    </tr>\n    <tr>\n      <th>50</th>\n      <td>50</td>\n      <td>Mens T-shirt_and_Sweatshirts</td>\n      <td>tank top in linen jersey</td>\n      <td>HK$ 2,690</td>\n      <td>https://saint-laurent.dam.kering.com/m/1d47aad...</td>\n      <td>0.0</td>\n    </tr>\n    <tr>\n      <th>51</th>\n      <td>51</td>\n      <td>Mens T-shirt_and_Sweatshirts</td>\n      <td>striped monogram tank top in jersey</td>\n      <td>HK$ 2,690</td>\n      <td>https://saint-laurent.dam.kering.com/m/450ddad...</td>\n      <td>0.0</td>\n    </tr>\n    <tr>\n      <th>52</th>\n      <td>52</td>\n      <td>Mens T-shirt_and_Sweatshirts</td>\n      <td>palm tank top in lamé embroidered linen jersey</td>\n      <td>HK$ 7,900</td>\n      <td>https://saint-laurent.dam.kering.com/m/626d965...</td>\n      <td>0.0</td>\n    </tr>\n    <tr>\n      <th>53</th>\n      <td>53</td>\n      <td>Mens T-shirt_and_Sweatshirts</td>\n      <td>tie-dye swim trunks in crinkled polyamide</td>\n      <td>HK$ 5,490</td>\n      <td>https://saint-laurent.dam.kering.com/m/325f078...</td>\n      <td>0.0</td>\n    </tr>\n    <tr>\n      <th>54</th>\n      <td>54</td>\n      <td>Mens T-shirt_and_Sweatshirts</td>\n      <td>nocturnal leopard swim trunks in polyamide</td>\n      <td>HK$ 5,490</td>\n      <td>https://saint-laurent.dam.kering.com/m/49879ef...</td>\n      <td>0.0</td>\n    </tr>\n  </tbody>\n</table>\n<p>2195 rows × 6 columns</p>\n</div>"
     },
     "metadata": {},
     "execution_count": 18
    }
   ],
   "source": [
    "df"
   ]
  },
  {
   "cell_type": "code",
   "execution_count": 19,
   "metadata": {},
   "outputs": [],
   "source": [
    "def gender(row):\n",
    "    if \"Mens\" in row['Clothing Category']:\n",
    "        return \"Men\"\n",
    "    if \"Womens\" in row[\"Clothing Category\"]:\n",
    "        return \"Women\"\n",
    "    return \"Other\"\n",
    "\n",
    "df[\"Gender\"] = df.apply(lambda row: gender(row), axis=1)"
   ]
  },
  {
   "cell_type": "code",
   "execution_count": 20,
   "metadata": {},
   "outputs": [
    {
     "output_type": "execute_result",
     "data": {
      "text/plain": [
       "    ID             Clothing Category  \\\n",
       "0    0                   Mens Shirts   \n",
       "1    1                   Mens Shirts   \n",
       "2    2                   Mens Shirts   \n",
       "3    3                   Mens Shirts   \n",
       "4    4                   Mens Shirts   \n",
       "..  ..                           ...   \n",
       "50  50  Mens T-shirt_and_Sweatshirts   \n",
       "51  51  Mens T-shirt_and_Sweatshirts   \n",
       "52  52  Mens T-shirt_and_Sweatshirts   \n",
       "53  53  Mens T-shirt_and_Sweatshirts   \n",
       "54  54  Mens T-shirt_and_Sweatshirts   \n",
       "\n",
       "                                                Brand      Price  \\\n",
       "0                        saint laurent hawaiian shirt  HK$ 5,990   \n",
       "1                        shirt in striated silk voile  HK$ 8,900   \n",
       "2   shark-collar shirt in tropical silk crepe de c...  HK$ 8,500   \n",
       "3      shirt in confetti hibiscus silk crepe de chine  HK$ 7,900   \n",
       "4               shirt in tropical silk crepe de chine  HK$ 7,900   \n",
       "..                                                ...        ...   \n",
       "50                           tank top in linen jersey  HK$ 2,690   \n",
       "51                striped monogram tank top in jersey  HK$ 2,690   \n",
       "52     palm tank top in lamé embroidered linen jersey  HK$ 7,900   \n",
       "53          tie-dye swim trunks in crinkled polyamide  HK$ 5,490   \n",
       "54         nocturnal leopard swim trunks in polyamide  HK$ 5,490   \n",
       "\n",
       "                                            Image URL  Unnamed: 0 Gender  \n",
       "0   https://saint-laurent.dam.kering.com/m/2631b1a...         NaN    Men  \n",
       "1   https://saint-laurent.dam.kering.com/m/7dcaa75...         NaN    Men  \n",
       "2   https://saint-laurent.dam.kering.com/m/28c9a6c...         NaN    Men  \n",
       "3   https://saint-laurent.dam.kering.com/m/7937504...         NaN    Men  \n",
       "4   https://saint-laurent.dam.kering.com/m/38892b6...         NaN    Men  \n",
       "..                                                ...         ...    ...  \n",
       "50  https://saint-laurent.dam.kering.com/m/1d47aad...         0.0    Men  \n",
       "51  https://saint-laurent.dam.kering.com/m/450ddad...         0.0    Men  \n",
       "52  https://saint-laurent.dam.kering.com/m/626d965...         0.0    Men  \n",
       "53  https://saint-laurent.dam.kering.com/m/325f078...         0.0    Men  \n",
       "54  https://saint-laurent.dam.kering.com/m/49879ef...         0.0    Men  \n",
       "\n",
       "[2195 rows x 7 columns]"
      ],
      "text/html": "<div>\n<style scoped>\n    .dataframe tbody tr th:only-of-type {\n        vertical-align: middle;\n    }\n\n    .dataframe tbody tr th {\n        vertical-align: top;\n    }\n\n    .dataframe thead th {\n        text-align: right;\n    }\n</style>\n<table border=\"1\" class=\"dataframe\">\n  <thead>\n    <tr style=\"text-align: right;\">\n      <th></th>\n      <th>ID</th>\n      <th>Clothing Category</th>\n      <th>Brand</th>\n      <th>Price</th>\n      <th>Image URL</th>\n      <th>Unnamed: 0</th>\n      <th>Gender</th>\n    </tr>\n  </thead>\n  <tbody>\n    <tr>\n      <th>0</th>\n      <td>0</td>\n      <td>Mens Shirts</td>\n      <td>saint laurent hawaiian shirt</td>\n      <td>HK$ 5,990</td>\n      <td>https://saint-laurent.dam.kering.com/m/2631b1a...</td>\n      <td>NaN</td>\n      <td>Men</td>\n    </tr>\n    <tr>\n      <th>1</th>\n      <td>1</td>\n      <td>Mens Shirts</td>\n      <td>shirt in striated silk voile</td>\n      <td>HK$ 8,900</td>\n      <td>https://saint-laurent.dam.kering.com/m/7dcaa75...</td>\n      <td>NaN</td>\n      <td>Men</td>\n    </tr>\n    <tr>\n      <th>2</th>\n      <td>2</td>\n      <td>Mens Shirts</td>\n      <td>shark-collar shirt in tropical silk crepe de c...</td>\n      <td>HK$ 8,500</td>\n      <td>https://saint-laurent.dam.kering.com/m/28c9a6c...</td>\n      <td>NaN</td>\n      <td>Men</td>\n    </tr>\n    <tr>\n      <th>3</th>\n      <td>3</td>\n      <td>Mens Shirts</td>\n      <td>shirt in confetti hibiscus silk crepe de chine</td>\n      <td>HK$ 7,900</td>\n      <td>https://saint-laurent.dam.kering.com/m/7937504...</td>\n      <td>NaN</td>\n      <td>Men</td>\n    </tr>\n    <tr>\n      <th>4</th>\n      <td>4</td>\n      <td>Mens Shirts</td>\n      <td>shirt in tropical silk crepe de chine</td>\n      <td>HK$ 7,900</td>\n      <td>https://saint-laurent.dam.kering.com/m/38892b6...</td>\n      <td>NaN</td>\n      <td>Men</td>\n    </tr>\n    <tr>\n      <th>...</th>\n      <td>...</td>\n      <td>...</td>\n      <td>...</td>\n      <td>...</td>\n      <td>...</td>\n      <td>...</td>\n      <td>...</td>\n    </tr>\n    <tr>\n      <th>50</th>\n      <td>50</td>\n      <td>Mens T-shirt_and_Sweatshirts</td>\n      <td>tank top in linen jersey</td>\n      <td>HK$ 2,690</td>\n      <td>https://saint-laurent.dam.kering.com/m/1d47aad...</td>\n      <td>0.0</td>\n      <td>Men</td>\n    </tr>\n    <tr>\n      <th>51</th>\n      <td>51</td>\n      <td>Mens T-shirt_and_Sweatshirts</td>\n      <td>striped monogram tank top in jersey</td>\n      <td>HK$ 2,690</td>\n      <td>https://saint-laurent.dam.kering.com/m/450ddad...</td>\n      <td>0.0</td>\n      <td>Men</td>\n    </tr>\n    <tr>\n      <th>52</th>\n      <td>52</td>\n      <td>Mens T-shirt_and_Sweatshirts</td>\n      <td>palm tank top in lamé embroidered linen jersey</td>\n      <td>HK$ 7,900</td>\n      <td>https://saint-laurent.dam.kering.com/m/626d965...</td>\n      <td>0.0</td>\n      <td>Men</td>\n    </tr>\n    <tr>\n      <th>53</th>\n      <td>53</td>\n      <td>Mens T-shirt_and_Sweatshirts</td>\n      <td>tie-dye swim trunks in crinkled polyamide</td>\n      <td>HK$ 5,490</td>\n      <td>https://saint-laurent.dam.kering.com/m/325f078...</td>\n      <td>0.0</td>\n      <td>Men</td>\n    </tr>\n    <tr>\n      <th>54</th>\n      <td>54</td>\n      <td>Mens T-shirt_and_Sweatshirts</td>\n      <td>nocturnal leopard swim trunks in polyamide</td>\n      <td>HK$ 5,490</td>\n      <td>https://saint-laurent.dam.kering.com/m/49879ef...</td>\n      <td>0.0</td>\n      <td>Men</td>\n    </tr>\n  </tbody>\n</table>\n<p>2195 rows × 7 columns</p>\n</div>"
     },
     "metadata": {},
     "execution_count": 20
    }
   ],
   "source": [
    "df"
   ]
  },
  {
   "cell_type": "code",
   "execution_count": 21,
   "metadata": {},
   "outputs": [],
   "source": [
    "df.drop(columns = ['Unnamed: 0'], inplace= True)"
   ]
  },
  {
   "cell_type": "code",
   "execution_count": 22,
   "metadata": {},
   "outputs": [],
   "source": [
    "df.rename(columns = {\"Clothing Category\":\"Category\", \"Brand\":\"Name\"}, inplace=True)"
   ]
  },
  {
   "cell_type": "code",
   "execution_count": 23,
   "metadata": {},
   "outputs": [
    {
     "output_type": "stream",
     "name": "stderr",
     "text": [
      "<ipython-input-23-9faaf374b4f8>:1: FutureWarning: The default value of regex will change from True to False in a future version.\n  df['Price'] = df['Price'].str.replace(r'[^0-9]+', '').astype(int)\n"
     ]
    }
   ],
   "source": [
    "df['Price'] = df['Price'].str.replace(r'[^0-9]+', '').astype(int)"
   ]
  },
  {
   "cell_type": "code",
   "execution_count": 31,
   "metadata": {},
   "outputs": [],
   "source": [
    "df['Category']=df['Category'].str.replace(\"Mens\",\"\")"
   ]
  },
  {
   "cell_type": "code",
   "execution_count": 33,
   "metadata": {},
   "outputs": [],
   "source": [
    "df['Category']=df['Category'].str.replace(\"Womens\",\"\")"
   ]
  },
  {
   "cell_type": "code",
   "execution_count": 37,
   "metadata": {},
   "outputs": [],
   "source": [
    "df = df[df['Category'] != \"Lingerie\"]"
   ]
  },
  {
   "cell_type": "code",
   "execution_count": 42,
   "metadata": {},
   "outputs": [
    {
     "output_type": "execute_result",
     "data": {
      "text/plain": [
       "    ID                  Category  \\\n",
       "0    0                    Shirts   \n",
       "1    1                    Shirts   \n",
       "2    2                    Shirts   \n",
       "3    3                    Shirts   \n",
       "4    4                    Shirts   \n",
       "..  ..                       ...   \n",
       "50  50   T-shirt_and_Sweatshirts   \n",
       "51  51   T-shirt_and_Sweatshirts   \n",
       "52  52   T-shirt_and_Sweatshirts   \n",
       "53  53   T-shirt_and_Sweatshirts   \n",
       "54  54   T-shirt_and_Sweatshirts   \n",
       "\n",
       "                                                 Name  Price  \\\n",
       "0                        saint laurent hawaiian shirt   5990   \n",
       "1                        shirt in striated silk voile   8900   \n",
       "2   shark-collar shirt in tropical silk crepe de c...   8500   \n",
       "3      shirt in confetti hibiscus silk crepe de chine   7900   \n",
       "4               shirt in tropical silk crepe de chine   7900   \n",
       "..                                                ...    ...   \n",
       "50                           tank top in linen jersey   2690   \n",
       "51                striped monogram tank top in jersey   2690   \n",
       "52     palm tank top in lamé embroidered linen jersey   7900   \n",
       "53          tie-dye swim trunks in crinkled polyamide   5490   \n",
       "54         nocturnal leopard swim trunks in polyamide   5490   \n",
       "\n",
       "                                            Image URL Gender  \n",
       "0   https://saint-laurent.dam.kering.com/m/2631b1a...    Men  \n",
       "1   https://saint-laurent.dam.kering.com/m/7dcaa75...    Men  \n",
       "2   https://saint-laurent.dam.kering.com/m/28c9a6c...    Men  \n",
       "3   https://saint-laurent.dam.kering.com/m/7937504...    Men  \n",
       "4   https://saint-laurent.dam.kering.com/m/38892b6...    Men  \n",
       "..                                                ...    ...  \n",
       "50  https://saint-laurent.dam.kering.com/m/1d47aad...    Men  \n",
       "51  https://saint-laurent.dam.kering.com/m/450ddad...    Men  \n",
       "52  https://saint-laurent.dam.kering.com/m/626d965...    Men  \n",
       "53  https://saint-laurent.dam.kering.com/m/325f078...    Men  \n",
       "54  https://saint-laurent.dam.kering.com/m/49879ef...    Men  \n",
       "\n",
       "[2195 rows x 6 columns]"
      ],
      "text/html": "<div>\n<style scoped>\n    .dataframe tbody tr th:only-of-type {\n        vertical-align: middle;\n    }\n\n    .dataframe tbody tr th {\n        vertical-align: top;\n    }\n\n    .dataframe thead th {\n        text-align: right;\n    }\n</style>\n<table border=\"1\" class=\"dataframe\">\n  <thead>\n    <tr style=\"text-align: right;\">\n      <th></th>\n      <th>ID</th>\n      <th>Category</th>\n      <th>Name</th>\n      <th>Price</th>\n      <th>Image URL</th>\n      <th>Gender</th>\n    </tr>\n  </thead>\n  <tbody>\n    <tr>\n      <th>0</th>\n      <td>0</td>\n      <td>Shirts</td>\n      <td>saint laurent hawaiian shirt</td>\n      <td>5990</td>\n      <td>https://saint-laurent.dam.kering.com/m/2631b1a...</td>\n      <td>Men</td>\n    </tr>\n    <tr>\n      <th>1</th>\n      <td>1</td>\n      <td>Shirts</td>\n      <td>shirt in striated silk voile</td>\n      <td>8900</td>\n      <td>https://saint-laurent.dam.kering.com/m/7dcaa75...</td>\n      <td>Men</td>\n    </tr>\n    <tr>\n      <th>2</th>\n      <td>2</td>\n      <td>Shirts</td>\n      <td>shark-collar shirt in tropical silk crepe de c...</td>\n      <td>8500</td>\n      <td>https://saint-laurent.dam.kering.com/m/28c9a6c...</td>\n      <td>Men</td>\n    </tr>\n    <tr>\n      <th>3</th>\n      <td>3</td>\n      <td>Shirts</td>\n      <td>shirt in confetti hibiscus silk crepe de chine</td>\n      <td>7900</td>\n      <td>https://saint-laurent.dam.kering.com/m/7937504...</td>\n      <td>Men</td>\n    </tr>\n    <tr>\n      <th>4</th>\n      <td>4</td>\n      <td>Shirts</td>\n      <td>shirt in tropical silk crepe de chine</td>\n      <td>7900</td>\n      <td>https://saint-laurent.dam.kering.com/m/38892b6...</td>\n      <td>Men</td>\n    </tr>\n    <tr>\n      <th>...</th>\n      <td>...</td>\n      <td>...</td>\n      <td>...</td>\n      <td>...</td>\n      <td>...</td>\n      <td>...</td>\n    </tr>\n    <tr>\n      <th>50</th>\n      <td>50</td>\n      <td>T-shirt_and_Sweatshirts</td>\n      <td>tank top in linen jersey</td>\n      <td>2690</td>\n      <td>https://saint-laurent.dam.kering.com/m/1d47aad...</td>\n      <td>Men</td>\n    </tr>\n    <tr>\n      <th>51</th>\n      <td>51</td>\n      <td>T-shirt_and_Sweatshirts</td>\n      <td>striped monogram tank top in jersey</td>\n      <td>2690</td>\n      <td>https://saint-laurent.dam.kering.com/m/450ddad...</td>\n      <td>Men</td>\n    </tr>\n    <tr>\n      <th>52</th>\n      <td>52</td>\n      <td>T-shirt_and_Sweatshirts</td>\n      <td>palm tank top in lamé embroidered linen jersey</td>\n      <td>7900</td>\n      <td>https://saint-laurent.dam.kering.com/m/626d965...</td>\n      <td>Men</td>\n    </tr>\n    <tr>\n      <th>53</th>\n      <td>53</td>\n      <td>T-shirt_and_Sweatshirts</td>\n      <td>tie-dye swim trunks in crinkled polyamide</td>\n      <td>5490</td>\n      <td>https://saint-laurent.dam.kering.com/m/325f078...</td>\n      <td>Men</td>\n    </tr>\n    <tr>\n      <th>54</th>\n      <td>54</td>\n      <td>T-shirt_and_Sweatshirts</td>\n      <td>nocturnal leopard swim trunks in polyamide</td>\n      <td>5490</td>\n      <td>https://saint-laurent.dam.kering.com/m/49879ef...</td>\n      <td>Men</td>\n    </tr>\n  </tbody>\n</table>\n<p>2195 rows × 6 columns</p>\n</div>"
     },
     "metadata": {},
     "execution_count": 42
    }
   ],
   "source": [
    "df"
   ]
  },
  {
   "cell_type": "code",
   "execution_count": 43,
   "metadata": {},
   "outputs": [],
   "source": [
    "def category(row):\n",
    "    if \"Shirts\" in row[\"Category\"]:\n",
    "        return \"Shirts\"\n",
    "    if \"Bags\" in row[\"Category\"]:\n",
    "        return \"Accessories\"\n",
    "    if \"Denim\" in row[\"Category\"]:\n",
    "        return \"Jeans\"\n",
    "    if \"Hats\" in row[\"Category\"]:\n",
    "        return \"Accessories\"\n",
    "    if \"Jackets\" in row[\"Category\"]:\n",
    "        return \"Jackets & Coats\"\n",
    "    if \"Jewelry\" in row[\"Category\"]:\n",
    "        return \"Accessories\"\n",
    "    if \"Knitwear\" in row[\"Category\"]:\n",
    "        return \"Jumpers\"\n",
    "    if \"Leather_and_Fur\" in row[\"Category\"]:\n",
    "        return \"Jackets & Coats\"\n",
    "    if \"Outerwear\" in row[\"Category\"]:\n",
    "        return \"Jackets & Coats\"\n",
    "    if \"Pants\" in row[\"Category\"]:\n",
    "        return \"Trousers\"\n",
    "    if \"Polo\" in row[\"Category\"]:\n",
    "        return \"Polos\"\n",
    "    if \"Shirts\" in row[\"Category\"]:\n",
    "        return \"Shirts\"\n",
    "    if \"Shoes\" in row[\"Category\"]:\n",
    "        return \"Shoes\"\n",
    "    if \"T-Shirt_and_Sweatshirts\" in row[\"Category\"]:\n",
    "        return \"T-Shirts\"\n",
    "    if \"Jackets_and_Pants\" in row[\"Category\"]:\n",
    "        return \"Jackets & Coats\"\n",
    "    if \"Sunglasses\" in row[\"Category\"]:\n",
    "        return \"Accessories\"\n",
    "    if \"T-Shirts_and_Sweatshirts\" in row[\"Category\"]:\n",
    "        return \"T-Shirts\"\n",
    "    if \"Shirts_and_Blouses\" in row[\"Category\"]:\n",
    "        return \"Blouses\"\n",
    "    if \"Trousers_and_Shorts\" in row[\"Category\"]:\n",
    "        return \"Trousers\"\n",
    "    if \"Dresses_and_Skirts\" in row[\"Category\"]:\n",
    "        return \"Dresses\"\n",
    "    if \"Handbags\" in row[\"Category\"]:\n",
    "        return \"Accessories\"\n",
    "    if \"Jewellry\" in row[\"Category\"]:\n",
    "        return \"Accessories\"\n",
    "    if \"T-shirt_and_Sweatshirts\" in row[\"Category\"]:\n",
    "        return \"T-Shirts\"\n",
    "    return \"Other\"\n"
   ]
  },
  {
   "cell_type": "code",
   "execution_count": 44,
   "metadata": {},
   "outputs": [],
   "source": [
    "df[\"Category\"] = df.apply(lambda row: category(row), axis=1)"
   ]
  },
  {
   "cell_type": "code",
   "execution_count": 47,
   "metadata": {},
   "outputs": [],
   "source": [
    "df.drop(columns=\"ID\",inplace=True)"
   ]
  },
  {
   "cell_type": "code",
   "execution_count": 51,
   "metadata": {},
   "outputs": [],
   "source": [
    "df.drop(columns =\"index\",inplace=True)\n",
    "\n"
   ]
  },
  {
   "cell_type": "code",
   "execution_count": 53,
   "metadata": {},
   "outputs": [],
   "source": [
    "df[\"ID\"] = df.index"
   ]
  },
  {
   "cell_type": "code",
   "execution_count": 55,
   "metadata": {},
   "outputs": [],
   "source": [
    "df[\"Brand\"] = \"Saint Laurent\""
   ]
  },
  {
   "cell_type": "code",
   "execution_count": 56,
   "metadata": {},
   "outputs": [
    {
     "output_type": "execute_result",
     "data": {
      "text/plain": [
       "      Category                                               Name  Price  \\\n",
       "0       Shirts                       saint laurent hawaiian shirt   5990   \n",
       "1       Shirts                       shirt in striated silk voile   8900   \n",
       "2       Shirts  shark-collar shirt in tropical silk crepe de c...   8500   \n",
       "3       Shirts     shirt in confetti hibiscus silk crepe de chine   7900   \n",
       "4       Shirts              shirt in tropical silk crepe de chine   7900   \n",
       "...        ...                                                ...    ...   \n",
       "2190  T-Shirts                           tank top in linen jersey   2690   \n",
       "2191  T-Shirts                striped monogram tank top in jersey   2690   \n",
       "2192  T-Shirts     palm tank top in lamé embroidered linen jersey   7900   \n",
       "2193  T-Shirts          tie-dye swim trunks in crinkled polyamide   5490   \n",
       "2194  T-Shirts         nocturnal leopard swim trunks in polyamide   5490   \n",
       "\n",
       "                                              Image URL Gender    ID  \\\n",
       "0     https://saint-laurent.dam.kering.com/m/2631b1a...    Men     0   \n",
       "1     https://saint-laurent.dam.kering.com/m/7dcaa75...    Men     1   \n",
       "2     https://saint-laurent.dam.kering.com/m/28c9a6c...    Men     2   \n",
       "3     https://saint-laurent.dam.kering.com/m/7937504...    Men     3   \n",
       "4     https://saint-laurent.dam.kering.com/m/38892b6...    Men     4   \n",
       "...                                                 ...    ...   ...   \n",
       "2190  https://saint-laurent.dam.kering.com/m/1d47aad...    Men  2190   \n",
       "2191  https://saint-laurent.dam.kering.com/m/450ddad...    Men  2191   \n",
       "2192  https://saint-laurent.dam.kering.com/m/626d965...    Men  2192   \n",
       "2193  https://saint-laurent.dam.kering.com/m/325f078...    Men  2193   \n",
       "2194  https://saint-laurent.dam.kering.com/m/49879ef...    Men  2194   \n",
       "\n",
       "              Brand  \n",
       "0     Saint Laurent  \n",
       "1     Saint Laurent  \n",
       "2     Saint Laurent  \n",
       "3     Saint Laurent  \n",
       "4     Saint Laurent  \n",
       "...             ...  \n",
       "2190  Saint Laurent  \n",
       "2191  Saint Laurent  \n",
       "2192  Saint Laurent  \n",
       "2193  Saint Laurent  \n",
       "2194  Saint Laurent  \n",
       "\n",
       "[2195 rows x 7 columns]"
      ],
      "text/html": "<div>\n<style scoped>\n    .dataframe tbody tr th:only-of-type {\n        vertical-align: middle;\n    }\n\n    .dataframe tbody tr th {\n        vertical-align: top;\n    }\n\n    .dataframe thead th {\n        text-align: right;\n    }\n</style>\n<table border=\"1\" class=\"dataframe\">\n  <thead>\n    <tr style=\"text-align: right;\">\n      <th></th>\n      <th>Category</th>\n      <th>Name</th>\n      <th>Price</th>\n      <th>Image URL</th>\n      <th>Gender</th>\n      <th>ID</th>\n      <th>Brand</th>\n    </tr>\n  </thead>\n  <tbody>\n    <tr>\n      <th>0</th>\n      <td>Shirts</td>\n      <td>saint laurent hawaiian shirt</td>\n      <td>5990</td>\n      <td>https://saint-laurent.dam.kering.com/m/2631b1a...</td>\n      <td>Men</td>\n      <td>0</td>\n      <td>Saint Laurent</td>\n    </tr>\n    <tr>\n      <th>1</th>\n      <td>Shirts</td>\n      <td>shirt in striated silk voile</td>\n      <td>8900</td>\n      <td>https://saint-laurent.dam.kering.com/m/7dcaa75...</td>\n      <td>Men</td>\n      <td>1</td>\n      <td>Saint Laurent</td>\n    </tr>\n    <tr>\n      <th>2</th>\n      <td>Shirts</td>\n      <td>shark-collar shirt in tropical silk crepe de c...</td>\n      <td>8500</td>\n      <td>https://saint-laurent.dam.kering.com/m/28c9a6c...</td>\n      <td>Men</td>\n      <td>2</td>\n      <td>Saint Laurent</td>\n    </tr>\n    <tr>\n      <th>3</th>\n      <td>Shirts</td>\n      <td>shirt in confetti hibiscus silk crepe de chine</td>\n      <td>7900</td>\n      <td>https://saint-laurent.dam.kering.com/m/7937504...</td>\n      <td>Men</td>\n      <td>3</td>\n      <td>Saint Laurent</td>\n    </tr>\n    <tr>\n      <th>4</th>\n      <td>Shirts</td>\n      <td>shirt in tropical silk crepe de chine</td>\n      <td>7900</td>\n      <td>https://saint-laurent.dam.kering.com/m/38892b6...</td>\n      <td>Men</td>\n      <td>4</td>\n      <td>Saint Laurent</td>\n    </tr>\n    <tr>\n      <th>...</th>\n      <td>...</td>\n      <td>...</td>\n      <td>...</td>\n      <td>...</td>\n      <td>...</td>\n      <td>...</td>\n      <td>...</td>\n    </tr>\n    <tr>\n      <th>2190</th>\n      <td>T-Shirts</td>\n      <td>tank top in linen jersey</td>\n      <td>2690</td>\n      <td>https://saint-laurent.dam.kering.com/m/1d47aad...</td>\n      <td>Men</td>\n      <td>2190</td>\n      <td>Saint Laurent</td>\n    </tr>\n    <tr>\n      <th>2191</th>\n      <td>T-Shirts</td>\n      <td>striped monogram tank top in jersey</td>\n      <td>2690</td>\n      <td>https://saint-laurent.dam.kering.com/m/450ddad...</td>\n      <td>Men</td>\n      <td>2191</td>\n      <td>Saint Laurent</td>\n    </tr>\n    <tr>\n      <th>2192</th>\n      <td>T-Shirts</td>\n      <td>palm tank top in lamé embroidered linen jersey</td>\n      <td>7900</td>\n      <td>https://saint-laurent.dam.kering.com/m/626d965...</td>\n      <td>Men</td>\n      <td>2192</td>\n      <td>Saint Laurent</td>\n    </tr>\n    <tr>\n      <th>2193</th>\n      <td>T-Shirts</td>\n      <td>tie-dye swim trunks in crinkled polyamide</td>\n      <td>5490</td>\n      <td>https://saint-laurent.dam.kering.com/m/325f078...</td>\n      <td>Men</td>\n      <td>2193</td>\n      <td>Saint Laurent</td>\n    </tr>\n    <tr>\n      <th>2194</th>\n      <td>T-Shirts</td>\n      <td>nocturnal leopard swim trunks in polyamide</td>\n      <td>5490</td>\n      <td>https://saint-laurent.dam.kering.com/m/49879ef...</td>\n      <td>Men</td>\n      <td>2194</td>\n      <td>Saint Laurent</td>\n    </tr>\n  </tbody>\n</table>\n<p>2195 rows × 7 columns</p>\n</div>"
     },
     "metadata": {},
     "execution_count": 56
    }
   ],
   "source": [
    "df"
   ]
  },
  {
   "cell_type": "code",
   "execution_count": 58,
   "metadata": {},
   "outputs": [],
   "source": [
    "df = df[[\"ID\", \"Brand\", \"Category\", \"Gender\", \"Name\", \"Image URL\", \"Price\"]]"
   ]
  },
  {
   "cell_type": "code",
   "execution_count": 59,
   "metadata": {},
   "outputs": [],
   "source": [
    "df.to_csv(\"Saint_Laurent_Final.csv\", index=False)"
   ]
  },
  {
   "cell_type": "code",
   "execution_count": null,
   "metadata": {},
   "outputs": [],
   "source": []
  }
 ]
}