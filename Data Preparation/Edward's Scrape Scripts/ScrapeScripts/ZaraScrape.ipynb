{
 "metadata": {
  "language_info": {
   "codemirror_mode": {
    "name": "ipython",
    "version": 3
   },
   "file_extension": ".py",
   "mimetype": "text/x-python",
   "name": "python",
   "nbconvert_exporter": "python",
   "pygments_lexer": "ipython3",
   "version": "3.8.5"
  },
  "orig_nbformat": 2,
  "kernelspec": {
   "name": "python385jvsc74a57bd0b3ba2566441a7c06988d0923437866b63cedc61552a5af99d1f4fb67d367b25f",
   "display_name": "Python 3.8.5 64-bit ('base': conda)"
  }
 },
 "nbformat": 4,
 "nbformat_minor": 2,
 "cells": [
  {
   "cell_type": "code",
   "execution_count": 3,
   "metadata": {},
   "outputs": [],
   "source": [
    "from bs4 import BeautifulSoup\n",
    "import requests\n",
    "\n",
    "import pandas as pd\n",
    "\n",
    "from selenium import webdriver      \n",
    "from selenium.common.exceptions import NoSuchElementException\n",
    "from selenium.webdriver.common.by import By\n",
    "from selenium.webdriver.support.ui import WebDriverWait\n",
    "from selenium.webdriver.support import expected_conditions as EC\n",
    "import time\n"
   ]
  },
  {
   "source": [
    "DataFrame Function"
   ],
   "cell_type": "markdown",
   "metadata": {}
  },
  {
   "cell_type": "code",
   "execution_count": null,
   "metadata": {},
   "outputs": [],
   "source": [
    "def InputDataframe (brand,cat,name,price,link):\n",
    "    df1 = pd.DataFrame({\n",
    "        'Brand':(brand),\n",
    "        'Clothing Category':str(category),\n",
    "        'Type':[name], \n",
    "        'Price':[price], \n",
    "        'Image URL':[link]\n",
    "        })\n",
    "    df = df.append(df1)"
   ]
  },
  {
   "cell_type": "code",
   "execution_count": null,
   "metadata": {},
   "outputs": [],
   "source": [
    "\n",
    "url = 'https://www.fredperry.com/men/polo-shirts'\n",
    "\n",
    "headers = {\"User-Agent\":\"Mozilla/5.0\"}\n",
    "response = requests.get(url, headers=headers)\n",
    "soup = BeautifulSoup(response.text,'html.parser')\n",
    "df = pd.DataFrame(columns = ['Clothing Category', 'Type', 'Price', 'Image URL'])\n",
    "\n",
    "images = soup.find_all('img')\n",
    "for image in images:\n",
    "    category = soup.find(class_ =\"page-title\").text.strip('\\n')\n",
    "    price = soup.find(class_='price').text.strip('\\n')\n",
    "    link = image['src']\n",
    "    name = image['alt']\n",
    "    print(category)\n",
    "    print(link)\n",
    "    print(name)\n",
    "    print(price)\n",
    "\n",
    "    df1 = pd.DataFrame({ \n",
    "        'Clothing Category':str(category),\n",
    "        'Type':[name], \n",
    "        'Price':[price], \n",
    "        'Image URL':[link]\n",
    "        })\n",
    "    df = df.append(df1)"
   ]
  },
  {
   "source": [
    "Download Functions"
   ],
   "cell_type": "markdown",
   "metadata": {}
  },
  {
   "cell_type": "code",
   "execution_count": 11,
   "metadata": {
    "tags": []
   },
   "outputs": [],
   "source": [
    "url = \"https://www.mrporter.com/en-hk/mens/clothing/polo-shirts\"\n",
    "\n",
    "def Porterdownload(url, folder):\n",
    "    try:\n",
    "        os.mkdir(os.path.join(os.getcwd(), folder))\n",
    "    except:\n",
    "        pass\n",
    "    os.chdir(os.path.join(os.getcwd(), folder))\n",
    "    headers = {\"User-Agent\":\"Mozilla/5.0\"}\n",
    "    response = requests.get(url, headers=headers)\n",
    "    soup = BeautifulSoup(response.text,'html.parser')\n",
    "\n",
    "\n",
    "    images = soup.find_all('img')\n",
    "    for image in images[0:-1]:\n",
    "        name = image['alt']\n",
    "        link = ('https:' + image['src'])\n",
    "        with open(name + '.jpg', 'wb') as f:\n",
    "            im = requests.get(link)\n",
    "            f.write(im)p;]"
   ]
  },
  {
   "cell_type": "code",
   "execution_count": 12,
   "metadata": {},
   "outputs": [],
   "source": [
    "Porterdownload('https://www.mrporter.com/en-hk/mens/clothing/polo-shirts', 'Polo-Tshirts')"
   ]
  },
  {
   "cell_type": "code",
   "execution_count": 40,
   "metadata": {},
   "outputs": [],
   "source": [
    "\n",
    "def FredPerry(url, folder):\n",
    "    try:\n",
    "        os.mkdir(os.path.join(os.getcwd(), folder))\n",
    "    except:\n",
    "        pass\n",
    "    os.chdir(os.path.join(os.getcwd(), folder))\n",
    "    headers = {\"User-Agent\":\"Mozilla/5.0\"}\n",
    "    response = requests.get(url, headers=headers)\n",
    "    soup = BeautifulSoup(response.text,'html.parser')\n",
    "\n",
    "\n",
    "    images = soup.find_all('img')\n",
    "        try:\n",
    "            for image in images:\n",
    "                link = image['src']\n",
    "                name = image['alt']\n",
    "            with open(name + '.jpg', 'wb') as f:\n",
    "                im = requests.get(link)\n",
    "                f.write(im.content)\n",
    "                print('Writing:', name)\n",
    "        except:\n",
    "            pass"
   ]
  },
  {
   "cell_type": "code",
   "execution_count": 42,
   "metadata": {},
   "outputs": [
    {
     "output_type": "stream",
     "name": "stdout",
     "text": [
      "Writing: ARREE Black View all Outerwear Man\n",
      "Writing: \n",
      "Writing: MENUE Dark green View all Outerwear Man\n",
      "Writing: \n",
      "Writing: AUBRAC Emerald green View all Outerwear Man\n",
      "Writing: \n",
      "Writing: SCHRECKHORN Dark blue View all Outerwear Man\n",
      "Writing: \n",
      "Writing: MONCENISIO Dark blue View all Outerwear Man\n",
      "Writing: \n",
      "Writing: ECRINS Red View all Outerwear Man\n",
      "Writing: \n",
      "Writing: LAGGINHORN Dark blue View all Outerwear Man\n",
      "Writing: \n",
      "Writing: FREMA Blue View all Outerwear Man\n",
      "Writing: \n",
      "Writing: VARO Black View all Outerwear Man\n",
      "Writing: \n",
      "Writing: TIB Coral View all Outerwear Man\n",
      "Writing: \n",
      "Writing: RATEAU Black View all Outerwear Man\n",
      "Writing: \n",
      "Writing: MONTGENEVRE Grey View all Outerwear Man\n",
      "Writing: \n",
      "Writing: Download on the App Store\n",
      "Writing: Get it on Google Play\n",
      "Writing: Trustwave\n",
      "Writing: GeoTrust\n",
      "Writing: Accepted payment cards: Visa Electron, Mastercard, Visa, American Express, JCB\n",
      "Writing: PayPal\n",
      "Writing: PayPal Express\n"
     ]
    }
   ],
   "source": [
    "FredPerry('https://store.moncler.com/en-gb/men/autumn-winter/view-all-outerwear','Moncler')"
   ]
  },
  {
   "cell_type": "code",
   "execution_count": 8,
   "metadata": {},
   "outputs": [],
   "source": [
    "url = \"https://www.zara.com/hk/en/woman-blazers-l1055.html?v1=1718115\"\n",
    "\n",
    "def Zara(url, folder):\n",
    "    try:\n",
    "        os.mkdir(os.path.join(os.getcwd(), folder))\n",
    "    except:\n",
    "        pass\n",
    "    os.chdir(os.path.join(os.getcwd(), folder))\n",
    "    headers = {\"User-Agent\":\"Mozilla/5.0\"}\n",
    "    response = requests.get(url, headers=headers)\n",
    "    soup = BeautifulSoup(response.text,'html.parser')\n",
    "\n",
    "\n",
    "    images = soup.find_all('img',class_ = \"media-image__image media__wrapper--media\")\n",
    "    for image in images:\n",
    "        name = image['alt']\n",
    "        link = image['src']\n",
    "        with open(name + '.jpg', 'wb') as f:\n",
    "            im = requests.get(link)\n",
    "            f.write(im.content)\n",
    "            print('Writing:', name)"
   ]
  },
  {
   "cell_type": "code",
   "execution_count": 117,
   "metadata": {},
   "outputs": [
    {
     "output_type": "stream",
     "name": "stdout",
     "text": [
      "https://static.zara.net/stdstatic/1.208.0-b.69/images/transparent-background.png\nKNOTTED T-SHIRT\nhttps://static.zara.net/stdstatic/1.208.0-b.69/images/transparent-background.png\nSEAMLESS CROP TOP\nhttps://static.zara.net/stdstatic/1.208.0-b.69/images/transparent-background.png\nPINK PANTHER ® MGM CROP TOP\nhttps://static.zara.net/stdstatic/1.208.0-b.69/images/transparent-background.png\nTOP WITH FRONT KNOT\nhttps://static.zara.net/stdstatic/1.208.0-b.69/images/transparent-background.png\nRIBBED VEST TOP\nhttps://static.zara.net/stdstatic/1.208.0-b.69/images/transparent-background.png\nFADED CROP TOP\nhttps://static.zara.net/stdstatic/1.208.0-b.69/images/transparent-background.png\nSEAMLESS CROP TOP\nhttps://static.zara.net/stdstatic/1.208.0-b.69/images/transparent-background.png\nTERRY CROP TOP\nhttps://static.zara.net/stdstatic/1.208.0-b.69/images/transparent-background.png\nRIBBED VEST TOP\nhttps://static.zara.net/stdstatic/1.208.0-b.69/images/transparent-background.png\nSEAMLESS BODYSUIT\nhttps://static.zara.net/stdstatic/1.208.0-b.69/images/transparent-background.png\nRIBBED BANDEAU TOP\nhttps://static.zara.net/stdstatic/1.208.0-b.69/images/transparent-background.png\nPINK PANTHER ® MGM T-SHIRT\nhttps://static.zara.net/stdstatic/1.208.0-b.69/images/transparent-background.png\nMICKEY MOUSE ©DISNEY T-SHIRT\nhttps://static.zara.net/stdstatic/1.208.0-b.69/images/transparent-background.png\nMICKEY MOUSE ©DISNEY T-SHIRT\nhttps://static.zara.net/stdstatic/1.208.0-b.69/images/transparent-background.png\nRETRO BAMBI ©DISNEY T-SHIRT\nhttps://static.zara.net/stdstatic/1.208.0-b.69/images/transparent-background.png\nRETRO BAMBI ©DISNEY T-SHIRT\nhttps://static.zara.net/stdstatic/1.208.0-b.69/images/transparent-background.png\nMICKEY MOUSE ©DISNEY T-SHIRT\nhttps://static.zara.net/stdstatic/1.208.0-b.69/images/transparent-background.png\nMICKEY MOUSE ©DISNEY T-SHIRT\nhttps://static.zara.net/stdstatic/1.208.0-b.69/images/transparent-background.png\nPINK PANTHER ® MGM T-SHIRT\nhttps://static.zara.net/stdstatic/1.208.0-b.69/images/transparent-background.png\nSLOGAN T-SHIRT\nhttps://static.zara.net/stdstatic/1.208.0-b.69/images/transparent-background.png\nSLOGAN T-SHIRT\nhttps://static.zara.net/stdstatic/1.208.0-b.69/images/transparent-background.png\nMUHAMMAD ALI™ T-SHIRT\nhttps://static.zara.net/stdstatic/1.208.0-b.69/images/transparent-background.png\nJANIS JOPLIN ® T-SHIRT\nhttps://static.zara.net/stdstatic/1.208.0-b.69/images/transparent-background.png\nJANIS JOPLIN ® T-SHIRT\nhttps://static.zara.net/stdstatic/1.208.0-b.69/images/transparent-background.png\nPAUL NEWMAN™ T-SHIRT\nhttps://static.zara.net/stdstatic/1.208.0-b.69/images/transparent-background.png\nPAUL NEWMAN™ T-SHIRT\nhttps://static.zara.net/stdstatic/1.208.0-b.69/images/transparent-background.png\nJANIS JOPLIN ® T-SHIRT\nhttps://static.zara.net/stdstatic/1.208.0-b.69/images/transparent-background.png\nJANIS JOPLIN ® T-SHIRT\nhttps://static.zara.net/stdstatic/1.208.0-b.69/images/transparent-background.png\nMUHAMMAD ALI™ T-SHIRT\nhttps://static.zara.net/stdstatic/1.208.0-b.69/images/transparent-background.png\nPAUL NEWMAN™ T-SHIRT\nhttps://static.zara.net/stdstatic/1.208.0-b.69/images/transparent-background.png\nPAUL NEWMAN™ T-SHIRT\n"
     ]
    }
   ],
   "source": [
    "url = \"https://www.zara.com/hk/en/woman-tshirts-l1362.html?v1=1718817\"\n",
    "\n",
    "headers = {\"User-Agent\":\"Mozilla/5.0\"}\n",
    "response = requests.get(url, headers=headers)\n",
    "soup = BeautifulSoup(response.text,'html.parser')\n",
    "\n",
    "images = soup.find_all('img',class_ = \"media-image__image media__wrapper--media\")\n",
    "for image in images:\n",
    "        name = image['alt']\n",
    "        link = image['src']\n",
    "        print(link)\n",
    "        print(name)"
   ]
  },
  {
   "cell_type": "code",
   "execution_count": 3,
   "metadata": {},
   "outputs": [],
   "source": [
    "def BrooksBrothers(url, folder):\n",
    "    try:\n",
    "        os.mkdir(os.path.join(os.getcwd(), folder))\n",
    "    except:\n",
    "        pass\n",
    "    os.chdir(os.path.join(os.getcwd(), folder))\n",
    "    headers = {\"User-Agent\":\"Mozilla/5.0\"}\n",
    "    response = requests.get(url, headers=headers)\n",
    "    soup = BeautifulSoup(response.text,'html.parser')\n",
    "\n",
    "\n",
    "    images = soup.find_all('img', class_ = \"grid-image\")\n",
    "    for image in images:\n",
    "        try:\n",
    "            link = image['src']\n",
    "            name = image['alt']\n",
    "            with open(name + '.jpg', 'wb') as f:\n",
    "                im = requests.get(link)\n",
    "                f.write(im.content)\n",
    "                print('Writing:', name)\n",
    "        except:\n",
    "            print('failed')\n",
    "            pass"
   ]
  },
  {
   "cell_type": "code",
   "execution_count": 6,
   "metadata": {},
   "outputs": [
    {
     "output_type": "stream",
     "name": "stdout",
     "text": [
      "Writing: Gingham Cotton Seersucker Skirt\n",
      "Writing: Cotton Eyelet Pleated Skirt\n",
      "Writing: Floral Jacquard Pencil Skirt\n",
      "Writing: Floral-Print Cotton Sateen Skirt\n",
      "Writing: Floral-Embroidered Stretch Cotton Canvas Skirt\n",
      "Writing: Floral-Print Pleated Skirt\n",
      "Writing: Striped Stretch Cotton Seersucker Skirt\n",
      "Writing: Pinstripe Stretch Wool Pencil Skirt\n",
      "Writing: Stretch-Cotton Sateen Button-Front Skirt\n",
      "Writing: Wool Pencil Skirt\n",
      "Writing: Prince of Wales Plaid BrooksCool® Merino Wool Pencil Skirt\n",
      "Writing: Plaid Skirt\n",
      "Writing: Wool Pencil Skirt\n",
      "Writing: Double-Weave A-Line Skirt\n",
      "Writing: Gingham Seersucker Pleated Skirt\n",
      "Writing: Floral-Print Dobby Pleated Skirt\n",
      "Writing: Costal-Print Cotton Midi Skirt\n",
      "Writing: Stretch Cotton Sateen Wide-Leg Pants\n",
      "Writing: Stretch Cotton Sateen Patch Pocket Pants\n",
      "Writing: Stretch Supima® Cotton Five-Pocket Pants\n",
      "Writing: Stretch Cotton Sateen Pleated Pants\n",
      "Writing: Flat-Front Stretch Advantage Chino® Pants\n",
      "Writing: Stretch Denim Jeans\n",
      "Writing: Stretch Cotton Twill Pants\n",
      "Writing: Stretch Cotton Sateen Pants\n",
      "Writing: Pinstriped Linen Pants\n",
      "Writing: Slim-Fit Wool Pants\n",
      "Writing: Stretch Denim Jeans\n",
      "Writing: Striped Stretch Cotton Seersucker Pants\n",
      "Writing: Linen Wide-Leg Pants\n",
      "Writing: Stretch Cotton Twill Ankle Pants\n",
      "Writing: Cropped Wide-Leg Pants\n",
      "Writing: Wool Wide-Leg Pants\n",
      "Writing: Slim-Fit Stretch Wool Pants\n",
      "Writing: Jacquard Slim-Fit Pants\n",
      "Writing: Houndstooth BrooksCool® Merino Wool Pants\n",
      "Writing: Double-Weave Pleated Ankle Pants\n",
      "Writing: Prince of Wales Plaid BrooksCool® Merino Wool Pants\n",
      "Writing: High-Waist Ponte Knit Ankle Pants\n",
      "Writing: Floral-Print Pleat-Front Cropped Wide-Leg Pants\n",
      "Writing: Floral-Print Cotton Sateen Cropped Wide-Leg Pants\n",
      "Writing: Floral-Patterned Silk-Cashmere Sweater\n",
      "Writing: Floral-Beaded Striped Cardigan\n",
      "Writing: Lightweight Supima® Cotton Shell\n",
      "Writing: Supima® Cotton Cropped Cardigan\n",
      "Writing: Beaded Seahorse Short-Sleeve Cotton Sweater\n",
      "Writing: Supima® Cotton Long Cardigan\n",
      "Writing: Merino Wool Cardigan\n",
      "Writing: Cotton Pointelle Cardigan\n",
      "Writing: Lightweight Supima® Cotton Cardigan\n",
      "Writing: Striped Short-Sleeve Shell\n",
      "Writing: Textured Short-Sleeve Sweater\n",
      "Writing: Metallic Rib-Knit Cardigan\n",
      "Writing: Striped Shimmer-Knit Sweater\n",
      "Writing: Metallic Rib-Knit Shell\n",
      "Writing: Scalloped-Trim Rib-Knit Cropped Cardigan\n",
      "Writing: Cable-Knit Cotton Sweater\n",
      "Writing: Silk-Cashmere Shawl-Collar Sweater\n",
      "Writing: Geometric-Pattern Shell\n",
      "Writing: Geometric-Pattern Cardigan\n",
      "Writing: Striped Merino Wool Sweater\n",
      "Writing: Dolman-Sleeve Sweater\n",
      "Writing: Cotton Pointelle-Yoke Tank\n",
      "Writing: Grosgrain-Trimmed Cotton Cardigan\n",
      "Writing: Peter Pan Collar Diamond-Stitch Cotton Sweater\n",
      "Writing: Stretch Cotton Twill Ankle Pants\n",
      "Writing: Stretch-Cotton Twill Ankle Pants\n",
      "Writing: Linen-Blend Twill Wide-Leg Pants\n",
      "Writing: Stretch-Cotton Jacquard Ankle Pants\n",
      "Writing: Pinstripe Stretch-Wool Tapered Trousers\n",
      "Writing: Pinstripe Stretch Wool Pants\n",
      "Writing: Stretch Supima® Cotton Skinny Jeans\n",
      "Writing: Stretch Cotton Ankle Pants\n",
      "Writing: Gingham Boucle Cropped Pants\n",
      "Writing: Ponte Knit Ankle Pants\n",
      "Writing: Wool Wide-Leg Pants\n",
      "Writing: Striped Cotton Dobby Culottes\n",
      "Writing: Slim-Fit Pinstripe Stretch Wool Pants\n",
      "Writing: Slim-Fit Stretch-Cotton Twill Ankle Pants\n",
      "Writing: Stretch Cotton Sateen Five-Pocket Pants\n"
     ]
    }
   ],
   "source": [
    "BrooksBrothers('https://www.brooksbrothers.com/womens/pants-skirts-shorts/0304,default,sc.html?prefn1=itemType&prefv1=Skirts', 'Brooks-WomenSkirts')\n",
    "BrooksBrothers('https://www.brooksbrothers.com/womens/pants-skirts-shorts/0304,default,sc.html?prefn1=itemType&prefv1=Pants', 'Brooks-WomenPants')\n",
    "BrooksBrothers('https://www.brooksbrothers.com/womens/sweaters/0245,default,sc.html?lid=topnav-menu','Brooks-WomenKnitwear')"
   ]
  },
  {
   "cell_type": "code",
   "execution_count": 2,
   "metadata": {
    "tags": []
   },
   "outputs": [
    {
     "output_type": "stream",
     "name": "stdout",
     "text": [
      "Cotton Polo Shirt\nStriped Space-Dyed Crochet-Knit Cotton Polo Shirt\nCotton Polo Shirt\nSlim-Fit Merino Wool Polo Shirt\nStriped Linen and Cotton-Blend Polo Shirt\nSlim-Fit Cotton-Piqué Polo Shirt\nLogo-Appliquéd Cotton-Piqué Polo Shirt\nLogo-Embroidered Stretch-Cotton Piqué Polo Shirt\nRugger Loopback Cotton-Jersey Polo Shirt\nStriped Linen Polo Shirt\nFairfield Slim-Fit Contrast-Tipped Silk and Cotton-Blend Polo Shirt\nContrast-Tipped Cotton-Piqué Polo Shirt\nCotton-Piqué Polo Shirt\nLogo-Embroidered Cotton-Piqué Polo Shirt\nKopa Wool Polo Shirt\nSlim-Fit Contrast-Tipped Cotton-Piqué Polo Shirt\nSlim-Fit Contrast-Tipped Cotton-Piqué Polo Shirt\nGarment-Dyed Cotton-Piqué Polo Shirt\nAnafiko Logo-Embroidered Cotton-Piqué Polo Shirt\nCashmere and Silk-Blend Polo Shirt\nSlim-Fit Cotton-Piqué Polo Shirt\nSlim-Fit Honeycomb-Knit Cotton Polo Shirt\nEmbroidered Linen Polo Shirt\nMerino Wool Polo Shirt\nCotton-Jacquard Shirt\nSlim-Fit Melangé Cotton Polo Shirt\nSlim-Fit Layered Cotton-Jersey Polo Shirt\nTriomphe Embroidered Studded Cotton-Piqué Polo Shirt\nSlim-Fit Contrast-Tipped Textured Merino Wool Polo Shirt\nSlim-Fit Striped Knitted Polo Shirt\nLogo-Appliquéd Cotton-Piqué Polo Shirt\nContrast-Tipped Cashmere and Silk-Blend Polo Shirt\nSlim-Fit Contrast-Tipped Cotton-Piqué Polo Shirt\nRoadster Textured Stretch-Cotton Jersey Polo Shirt\nContrast-Tipped Mercerised Stretch-Cotton Piqué Polo Shirt\nSimon Garment-Dyed Linen Polo Shirt\nCashmere and Silk-Blend Polo Shirt\nSlim-Fit Cotton-Piqué Polo Shirt\nJinete Virgin Wool Polo Shirt\nSlim-Fit Merino Wool Polo Shirt\nContrast-Tipped Cotton-Piqué Polo Shirt\nCotton Polo Shirt\nSlim-Fit Contrast-Tipped Stretch-Cotton Piqué Polo Shirt\nContrast-Tipped Cotton-Piqué Polo Shirt\nEmbroidered Mélange Linen Polo Shirt\nDario Slim-Fit Cotton-Mesh Polo Shirt\nLogo-Jacquard Webbing-Trimmed Stretch-Cotton Piqué Polo Shirt\nSlim-Fit Merino Wool Polo Shirt\nSpace-Dyed Crochet-Knit Cotton Polo Shirt\nTaddeo Slim-Fit Cotton-Jersey Polo Shirt\nCashmere Polo Shirt\nSlim-Fit Cotton-Piqué Polo Shirt\nCashmere Polo Shirt\nSlim-Fit Mélange Wool-Jersey Polo Shirt\nSlim-Fit Cotton-Piqué Polo Shirt\nLogo-Embroidered Cotton-Piqué Polo Shirt\nSlim-Fit Cotton-Piqué Polo Shirt\nSlim-Fit Waffle-Knit Cotton Polo Shirt\nSlim-Fit Layered Cotton-Jersey Polo Shirt\nBaby Cashmere Polo Shirt\n"
     ]
    }
   ],
   "source": [
    "url = \"https://www.mrporter.com/en-hk/mens/clothing/polo-shirts\"\n",
    "headers = {\"User-Agent\":\"Mozilla/5.0\"}\n",
    "response = requests.get(url, headers=headers)\n",
    "soup = BeautifulSoup(response.text,'html.parser')\n",
    "\n",
    "name = soup.find_all('span', itemprop= 'name')\n",
    "for item in name:\n",
    "    print(item.text)"
   ]
  },
  {
   "cell_type": "code",
   "execution_count": 13,
   "metadata": {},
   "outputs": [
    {
     "output_type": "stream",
     "name": "stdout",
     "text": [
      "//media.yoox.biz/ytos/resources/MONCLER/accessibility/icons/png/logo-moncler.png\nMoncler - Online Store\nhttps://cdn.yoox.biz/41/41968095fv_11_f.jpg\nARREE Black View all Outerwear Man\nhttps://cdn.yoox.biz/41/41968095fv_11_r.jpg\n\nhttps://cdn.yoox.biz/41/41967963vu_11_f.jpg\nMENUE Dark green View all Outerwear Man\nhttps://cdn.yoox.biz/41/41967963vu_11_r.jpg\n\nhttps://cdn.yoox.biz/41/41967967kt_11_f.jpg\nAUBRAC Emerald green View all Outerwear Man\nhttps://cdn.yoox.biz/41/41967967kt_11_r.jpg\n\nhttps://cdn.yoox.biz/41/41985989jh_11_f.jpg\nSCHRECKHORN Dark blue View all Outerwear Man\nhttps://cdn.yoox.biz/41/41985989jh_11_r.jpg\n\nhttps://cdn.yoox.biz/41/41969982ni_11_f.jpg\nMONCENISIO Dark blue View all Outerwear Man\nhttps://cdn.yoox.biz/41/41969982ni_11_r.jpg\n\nhttps://cdn.yoox.biz/41/41967964je_11_f.jpg\nECRINS Red View all Outerwear Man\nhttps://cdn.yoox.biz/41/41967964je_11_r.jpg\n\nhttps://cdn.yoox.biz/41/41974661sg_11_f.jpg\nLAGGINHORN Dark blue View all Outerwear Man\nhttps://cdn.yoox.biz/41/41974661sg_11_r.jpg\n\nhttps://cdn.yoox.biz/41/41989884dj_11_f.jpg\nFREMA Blue View all Outerwear Man\nhttps://cdn.yoox.biz/41/41989884dj_11_r.jpg\n\nhttps://cdn.yoox.biz/41/41991649uo_11_f.jpg\nVARO Black View all Outerwear Man\nhttps://cdn.yoox.biz/41/41991649uo_11_r.jpg\n\nhttps://cdn.yoox.biz/41/41236593ef_11_f.jpg\nTIB Coral View all Outerwear Man\nhttps://cdn.yoox.biz/41/41236593ef_11_r.jpg\n\nhttps://cdn.yoox.biz/41/41984030ek_11_f.jpg\nRATEAU Black View all Outerwear Man\nhttps://cdn.yoox.biz/41/41984030ek_11_r.jpg\n\nhttps://cdn.yoox.biz/41/41249881tr_11_f.jpg\nMONTGENEVRE Grey View all Outerwear Man\nhttps://cdn.yoox.biz/41/41249881tr_11_r.jpg\n\nhttps://linkmaker.itunes.apple.com/en-us/badge-lrg.svg?releaseDate=2014-12-18&kind=iossoftware&bubble=ios_apps\nDownload on the App Store\nhttps://media.yoox.biz/ytos/resources/MONCLER/accessibility/icons/svg-color/download-app-android.svg\nGet it on Google Play\nhttps://media.yoox.biz/ytos/resources/MONCLER/accessibility/icons/svg-mono-white/pay-trustwav.svg\nTrustwave\nhttps://media.yoox.biz/ytos/resources/MONCLER/accessibility/icons/svg-mono-white/pay-geotrust.svg\nGeoTrust\nhttps://media.yoox.biz/ytos/resources/MONCLER/accessibility/icons/svg-color/pay-card-gb.svg\nAccepted payment cards: Visa Electron, Mastercard, Visa, American Express, JCB\nhttps://media.yoox.biz/ytos/resources/MONCLER/accessibility/icons/svg-color/pay-paypal.svg\nPayPal\nhttps://media.yoox.biz/ytos/resources/MONCLER/accessibility/icons/svg-color/pay-paypal.svg\nPayPal Express\n"
     ]
    }
   ],
   "source": [
    "url = \"https://store.moncler.com/en-gb/men/autumn-winter/view-all-outerwear\"\n",
    "\n",
    "driver = webdriver.Chrome('C:/Program Files/Google/Chrome/Application/chromedriver')\n",
    "driver.implicitly_wait(10)\n",
    "driver.get(url)\n",
    "driver.implicitly_wait(5)\n",
    "\n",
    "while True:\n",
    "    try:\n",
    "        loadMoreButton = driver.find_element_by_xpath(\"//*[@id=\\\"main\\\"]/div[1]/section/section/div/button\")\n",
    "        time.sleep(2)\n",
    "        loadMoreButton.click()\n",
    "        time.sleep(5)\n",
    "    except:\n",
    "        break\n",
    "\n",
    "headers = {\"User-Agent\":\"Mozilla/5.0\"}\n",
    "response = requests.get(url, headers=headers)\n",
    "soup = BeautifulSoup(response.text,'html.parser')\n",
    "\n",
    "images = soup.find_all('img')\n",
    "\n",
    "for image in images:\n",
    "    try:\n",
    "        link = image['src']\n",
    "        name = image['alt']\n",
    "        print(link)\n",
    "        print(name)\n",
    "        df1 = pd.DataFrame({\n",
    "        'Brand':(brand),\n",
    "        'Clothing Category':str(category),\n",
    "        'Name':[name], \n",
    "        'Price':[price], \n",
    "        'Image URL':[link]\n",
    "        })\n",
    "        df = df.append(df1)       \n",
    "    except:\n",
    "        pass"
   ]
  },
  {
   "cell_type": "code",
   "execution_count": 37,
   "metadata": {
    "tags": []
   },
   "outputs": [],
   "source": [
    "url = 'https://www.uniqlo.com.hk/en_GB/short_sleeves_men.html#ct'\n",
    "\n",
    "headers = {\"User-Agent\":\"Mozilla/5.0\"}\n",
    "response = requests.get(url, headers=headers)\n",
    "soup = BeautifulSoup(response.text,'html.parser')\n",
    "\n",
    "images = soup.find_all('img', class_ = 'picture-img')\n",
    "\n",
    "for image in images:\n",
    "    try:\n",
    "        link = image['src']\n",
    "        name = image['alt']\n",
    "        print(link)\n",
    "        print(name)\n",
    "        print('-------------------')\n",
    "    except:\n",
    "        pass"
   ]
  },
  {
   "cell_type": "code",
   "execution_count": null,
   "metadata": {},
   "outputs": [],
   "source": []
  }
 ]
}