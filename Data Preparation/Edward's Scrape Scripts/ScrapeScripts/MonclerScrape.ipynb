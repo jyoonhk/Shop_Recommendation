{
 "metadata": {
  "language_info": {
   "codemirror_mode": {
    "name": "ipython",
    "version": 3
   },
   "file_extension": ".py",
   "mimetype": "text/x-python",
   "name": "python",
   "nbconvert_exporter": "python",
   "pygments_lexer": "ipython3",
   "version": "3.8.5"
  },
  "orig_nbformat": 2,
  "kernelspec": {
   "name": "python385jvsc74a57bd0b3ba2566441a7c06988d0923437866b63cedc61552a5af99d1f4fb67d367b25f",
   "display_name": "Python 3.8.5 64-bit ('base': conda)"
  }
 },
 "nbformat": 4,
 "nbformat_minor": 2,
 "cells": [
  {
   "cell_type": "code",
   "execution_count": 6,
   "metadata": {},
   "outputs": [],
   "source": [
    "from bs4 import BeautifulSoup\n",
    "import requests\n",
    "\n",
    "import pandas as pd\n",
    "\n",
    "from selenium import webdriver\n",
    "from selenium.webdriver.support import expected_conditions as EC\n",
    "from selenium.webdriver.support.ui import WebDriverWait\n",
    "from selenium.webdriver.common.by import By\n",
    "from selenium.common.exceptions import TimeoutException\n",
    "from selenium.webdriver import ActionChains\n",
    "from selenium.webdriver.chrome.options import Options\n"
   ]
  },
  {
   "cell_type": "code",
   "execution_count": 2,
   "metadata": {},
   "outputs": [
    {
     "output_type": "stream",
     "name": "stdout",
     "text": [
      "Moncler\n<span class=\"text open-menu\">Open Menu</span>\n//media.yoox.biz/ytos/resources/MONCLER/accessibility/icons/png/logo-moncler.png\nMoncler - Online Store\n855.00\nMoncler\n<span class=\"text open-menu\">Open Menu</span>\nhttps://cdn.yoox.biz/41/41968095fv_11_f.jpg\nARREE Black View all Outerwear Man\n855.00\nfailed\n"
     ]
    }
   ],
   "source": [
    "url = 'https://store.moncler.com/en-gb/men/autumn-winter/view-all-outerwear'\n",
    "headers = {\"User-Agent\":\"Mozilla/5.0\"}\n",
    "response = requests.get(url, headers=headers)\n",
    "soup = BeautifulSoup(response.text,'html.parser')\n",
    "df = pd.DataFrame(columns = ['Brand','Category', 'Name', 'Price', 'Image URL'])\n",
    "\n",
    "images = soup.find_all('img')\n",
    "try:\n",
    "    for image in images:\n",
    "        brand = 'Moncler'\n",
    "        category = soup.find('span', class_ =\"text\")\n",
    "        price = soup.find('span', class_='value').text.strip('\\n')\n",
    "        link = image['src']\n",
    "        name = image['alt']\n",
    "        print(brand)\n",
    "        print(category)\n",
    "        print(link)\n",
    "        print(name)\n",
    "        print(price)\n",
    "        df1 = pd.DataFrame({\n",
    "        'Brand':(brand),\n",
    "        'Category':str(category),\n",
    "        'Name':[name], \n",
    "        'Price':[price], \n",
    "        'Image URL':[link]\n",
    "        })\n",
    "        df = df.append(df1)\n",
    "except:\n",
    "    print('failed')\n",
    "    pass"
   ]
  },
  {
   "cell_type": "code",
   "execution_count": 3,
   "metadata": {},
   "outputs": [],
   "source": [
    "url = 'https://store.moncler.com/en-gb/men/autumn-winter/view-all-outerwear'\n",
    "headers = {\"User-Agent\":\"Mozilla/5.0\"}\n",
    "response = requests.get(url, headers=headers)\n",
    "soup = BeautifulSoup(response.text,'html.parser')\n",
    "\n",
    "images = soup.find_all('img',class_ = 'plpProductImage ')\n",
    "for image in images:\n",
    "    brand = 'Moncler'\n",
    "    category = soup.find('span', class_ =\"text\")\n",
    "    price = soup.find('span', class_='value').text.strip('\\n')\n",
    "    link = image['src']\n",
    "    name = image['alt']\n",
    "    print(brand)\n",
    "    print(category)\n",
    "    print(link)\n",
    "    print(name)\n",
    "    print(price)"
   ]
  },
  {
   "cell_type": "code",
   "execution_count": 11,
   "metadata": {},
   "outputs": [],
   "source": [
    "\n",
    "url = \"https://store.moncler.com/en-gb/men/spring-summer/view-all-outerwear\"\n",
    "\n",
    "driver = webdriver.Chrome('C:/Program Files/Google/Chrome/Application/chromedriver')\n",
    "driver.get(url)\n",
    "driver.maximize_window()\n",
    "\n",
    "driver.implicitly_wait(15)\n",
    "\n",
    "\n",
    "element = driver.find_element_by_class_name('loadMoreBtn')\n",
    "driver.execute_script(\"arguments[0].scrollIntoView();\", element)\n",
    "driver.execute_script(\"arguments[0].click();\", element)"
   ]
  },
  {
   "cell_type": "code",
   "execution_count": null,
   "metadata": {},
   "outputs": [],
   "source": []
  }
 ]
}