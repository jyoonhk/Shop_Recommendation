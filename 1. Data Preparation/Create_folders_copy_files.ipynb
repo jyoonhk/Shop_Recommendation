{
 "metadata": {
  "language_info": {
   "codemirror_mode": {
    "name": "ipython",
    "version": 3
   },
   "file_extension": ".py",
   "mimetype": "text/x-python",
   "name": "python",
   "nbconvert_exporter": "python",
   "pygments_lexer": "ipython3",
   "version": "3.8.5"
  },
  "orig_nbformat": 2,
  "kernelspec": {
   "name": "python385jvsc74a57bd010d0ca335ba18670d796e60c368a3acb961c71d35c9c1e61688d5bfee08a5df3",
   "display_name": "Python 3.8.5 64-bit ('FTDS': conda)"
  }
 },
 "nbformat": 4,
 "nbformat_minor": 2,
 "cells": [
  {
   "cell_type": "code",
   "execution_count": 71,
   "metadata": {},
   "outputs": [],
   "source": [
    "#Import libraries\n",
    "import pandas as pd\n",
    "import numpy as np\n",
    "import shutil, os\n",
    "import matplotlib.pyplot as plt\n",
    "import seaborn as sns\n",
    "from PIL import Image"
   ]
  },
  {
   "cell_type": "code",
   "execution_count": 74,
   "metadata": {},
   "outputs": [
    {
     "output_type": "execute_result",
     "data": {
      "text/plain": [
       "                            Combined\n",
       "Original                            \n",
       "Blazers              Jackets & Coats\n",
       "Brooks-MensPants            Trousers\n",
       "Brooks-MensShorts             Shorts\n",
       "Brooks-MensSuits               Suits\n",
       "Brooks-WomenDresses          Dresses"
      ],
      "text/html": "<div>\n<style scoped>\n    .dataframe tbody tr th:only-of-type {\n        vertical-align: middle;\n    }\n\n    .dataframe tbody tr th {\n        vertical-align: top;\n    }\n\n    .dataframe thead th {\n        text-align: right;\n    }\n</style>\n<table border=\"1\" class=\"dataframe\">\n  <thead>\n    <tr style=\"text-align: right;\">\n      <th></th>\n      <th>Combined</th>\n    </tr>\n    <tr>\n      <th>Original</th>\n      <th></th>\n    </tr>\n  </thead>\n  <tbody>\n    <tr>\n      <th>Blazers</th>\n      <td>Jackets &amp; Coats</td>\n    </tr>\n    <tr>\n      <th>Brooks-MensPants</th>\n      <td>Trousers</td>\n    </tr>\n    <tr>\n      <th>Brooks-MensShorts</th>\n      <td>Shorts</td>\n    </tr>\n    <tr>\n      <th>Brooks-MensSuits</th>\n      <td>Suits</td>\n    </tr>\n    <tr>\n      <th>Brooks-WomenDresses</th>\n      <td>Dresses</td>\n    </tr>\n  </tbody>\n</table>\n</div>"
     },
     "metadata": {},
     "execution_count": 74
    }
   ],
   "source": [
    "# Define folders and load mapping.csv file\n",
    "origin = 'C:/Users/danie/Documents/FTDS/Capstone/1. Webscraping/Output/'\n",
    "destination = 'C:/Users/danie/Documents/FTDS/Capstone/3. Model/Data/'\n",
    "mapping = pd.read_csv('mapping.csv')\n",
    "mapping.set_index('Original', inplace = True) # set index, so we can use .loc[] function\n",
    "mapping.head()"
   ]
  },
  {
   "cell_type": "code",
   "execution_count": 75,
   "metadata": {},
   "outputs": [
    {
     "output_type": "execute_result",
     "data": {
      "text/plain": [
       "array(['Jackets & Coats', 'Trousers', 'Shorts', 'Suits', 'Dresses',\n",
       "       'Jumpers', 'Skirts', 'Blouses', 'Shirts', 'T-Shirts', 'Jeans',\n",
       "       'Polos', 'Accessories', 'Shoes'], dtype=object)"
      ]
     },
     "metadata": {},
     "execution_count": 75
    }
   ],
   "source": [
    "#Check mapping clothing categories\n",
    "mapping['Combined'].unique()"
   ]
  },
  {
   "cell_type": "code",
   "execution_count": 76,
   "metadata": {},
   "outputs": [],
   "source": [
    "#Loop through folder and store original clothing categories\n",
    "# Use to check against mapping.csv\n",
    "def clothing_folder_list(origin):\n",
    "    folders = []\n",
    "    for brand in os.listdir(origin): # loop through folder for each shop/brand\n",
    "        for category in os.listdir(origin + brand): # loop through each category within a shop/brand\n",
    "            if category not in folders:\n",
    "                folders.append(category)\n",
    "    folders = sorted(folders)\n",
    "    return folders"
   ]
  },
  {
   "cell_type": "code",
   "execution_count": 77,
   "metadata": {},
   "outputs": [],
   "source": [
    "#Run if you need mapping categories\n",
    "# clothing_folder_list(origin)"
   ]
  },
  {
   "cell_type": "code",
   "execution_count": 78,
   "metadata": {},
   "outputs": [],
   "source": [
    "#Define function to create empty folders\n",
    "def create_category_folders(destination, mapping):\n",
    "    for category in mapping['Combined'].unique():\n",
    "        try:\n",
    "            os.mkdir(os.path.join(destination, category))\n",
    "        except:\n",
    "            pass"
   ]
  },
  {
   "cell_type": "code",
   "execution_count": null,
   "metadata": {},
   "outputs": [],
   "source": [
    "#Define function to loop through shop and category combinations\n",
    "# Save all images in folders to corresponding folder based on mapping table\n",
    "def copy_files(origin, destination, mapping):\n",
    "    failed = []\n",
    "    for brand in os.listdir(origin): # loop through folder for each shop/brand\n",
    "        for category in os.listdir(origin + brand): # loop through each category within a shop/brand\n",
    "            try:\n",
    "                src = origin + brand + '/' + category\n",
    "                dst = destination + mapping['Combined'].loc[category]\n",
    "                for file_name in os.listdir(src):\n",
    "                    src_file = os.path.join(src, file_name)\n",
    "                    dst_file = os.path.join(dst, file_name)\n",
    "                    shutil.copy(src_file, dst_file)  \n",
    "                print(f'Completed: {brand} {category}')\n",
    "            except:\n",
    "                print(f'Failed: {brand} {category}')\n",
    "                failed.append(brand + ' ' + category)\n",
    "                continue\n",
    "    return failed"
   ]
  },
  {
   "cell_type": "code",
   "execution_count": 85,
   "metadata": {},
   "outputs": [],
   "source": [
    "#Define function to loop through shop and category combinations\n",
    "# Save all images in folders to corresponding folder based on mapping table\n",
    "def copy_files_train_test_split(origin, destination, mapping):\n",
    "    failed = []\n",
    "    for brand in os.listdir(origin): # loop through folder for each shop/brand\n",
    "        for category in os.listdir(origin + brand): # loop through each category within a shop/brand\n",
    "            try:\n",
    "                count = 1\n",
    "                for file_name in os.listdir(origin + brand + '/' + category):\n",
    "                    if count%5 == 0:\n",
    "                        src = origin + brand + '/' + category\n",
    "                        dst = destination + 'Test/' + mapping['Combined'].loc[category]\n",
    "                        src_file = os.path.join(src, file_name)\n",
    "                        dst_file = os.path.join(dst, file_name)\n",
    "                        shutil.copy(src_file, dst_file)\n",
    "                        count+=1  \n",
    "                    else:\n",
    "                        src = origin + brand + '/' + category\n",
    "                        dst = destination + 'Train/' + mapping['Combined'].loc[category]\n",
    "                        src_file = os.path.join(src, file_name)\n",
    "                        dst_file = os.path.join(dst, file_name)\n",
    "                        shutil.copy(src_file, dst_file)  \n",
    "                        count+=1\n",
    "                print(f'Completed: {brand} {category}')\n",
    "\n",
    "            except:\n",
    "                print(f'Failed: {brand} {category}')\n",
    "                failed.append(brand + ' ' + category)\n",
    "                continue\n",
    "    return failed"
   ]
  },
  {
   "cell_type": "code",
   "execution_count": 88,
   "metadata": {},
   "outputs": [],
   "source": [
    "#Create empty folders to transfer data into\n",
    "create_category_folders(destination +'Train/', mapping)\n",
    "create_category_folders(destination +'Test/', mapping)"
   ]
  },
  {
   "cell_type": "code",
   "execution_count": 89,
   "metadata": {},
   "outputs": [
    {
     "output_type": "stream",
     "name": "stdout",
     "text": [
      "Completed: Adidas Mens Jackets\n",
      "Completed: Adidas Mens Pants\n",
      "Completed: Adidas Mens Polos\n",
      "Completed: Adidas Mens Shorts\n",
      "Completed: Adidas Mens Sweatshirts & Hoodies\n",
      "Completed: Adidas Mens T-Shirts\n",
      "Completed: Adidas Womens Dresses\n",
      "Completed: Adidas Womens Jackets\n",
      "Completed: Adidas Womens Pants\n",
      "Completed: Adidas Womens Polos\n",
      "Completed: Adidas Womens Shorts\n",
      "Completed: Adidas Womens Skirts\n",
      "Completed: Adidas Womens Sweatshirts & Hoodies\n",
      "Completed: Adidas Womens T-Shirts\n",
      "Completed: BrooksBrothers Brooks-MensPants\n",
      "Completed: BrooksBrothers Brooks-MensShorts\n",
      "Completed: BrooksBrothers Brooks-MensSuits\n",
      "Completed: BrooksBrothers Brooks-WomenDresses\n",
      "Completed: BrooksBrothers Brooks-WomenKnitwear\n",
      "Completed: BrooksBrothers Brooks-WomenPants\n",
      "Completed: BrooksBrothers Brooks-WomenSkirts\n",
      "Completed: BrooksBrothers Brooks-WomensTops\n",
      "Completed: CalvinKleinMen Mens Hoodies\n",
      "Completed: CalvinKleinMen Mens Jackets\n",
      "Completed: CalvinKleinMen Mens Jeans\n",
      "Completed: CalvinKleinMen Mens Shirts\n",
      "Completed: CalvinKleinMen Mens Sweaters\n",
      "Completed: CalvinKleinMen Mens T-Shirts\n",
      "Completed: CalvinKleinMen Mens Trousers\n",
      "Completed: CalvinKleinPerformance Mens Hoodies\n",
      "Completed: CalvinKleinPerformance Mens Jackets\n",
      "Completed: CalvinKleinPerformance Mens Shorts\n",
      "Completed: CalvinKleinPerformance Mens T-Shirts\n",
      "Completed: CalvinKleinPerformance Womens Dresses\n",
      "Completed: CalvinKleinPerformance Womens Hoodies\n",
      "Completed: CalvinKleinPerformance Womens Jackets\n",
      "Completed: CalvinKleinPerformance Womens Shorts\n",
      "Completed: CalvinKleinPerformance Womens Skirts\n",
      "Completed: CalvinKleinPerformance Womens T-Shirts\n",
      "Completed: CalvinKleinWomen Womens Dresses\n",
      "Completed: CalvinKleinWomen Womens Hoodies\n",
      "Completed: CalvinKleinWomen Womens Jackets\n",
      "Completed: CalvinKleinWomen Womens Jeans\n",
      "Completed: CalvinKleinWomen Womens Skirts\n",
      "Completed: CalvinKleinWomen Womens Sweaters\n",
      "Completed: CalvinKleinWomen Womens T-Shirts\n",
      "Completed: CalvinKleinWomen Womens Tops\n",
      "Completed: CalvinKleinWomen Womens Trousers\n",
      "Completed: FredPerry Polo Shirts\n",
      "Completed: HugoBoss HugoBoss-Blouses\n",
      "Completed: HugoBoss HugoBoss-Dresses\n",
      "Completed: HugoBoss HugoBoss-MensKnitwear\n",
      "Completed: HugoBoss HugoBoss-MensShirts\n",
      "Completed: HugoBoss HugoBoss-MensShorts\n",
      "Completed: HugoBoss HugoBoss-MensSuits\n",
      "Completed: HugoBoss HugoBoss-MensTrousers\n",
      "Completed: HugoBoss HugoBoss-MensTshirts\n",
      "Completed: HugoBoss HugoBoss-Skirts\n",
      "Completed: HugoBoss HugoBoss-WomensTops\n",
      "Completed: HugoBoss HugoBoss-WomenSuits\n",
      "Completed: Max&Co Womens Coats\n",
      "Completed: Max&Co Womens Dresses\n",
      "Completed: Max&Co Womens Jackets & Blazers\n",
      "Completed: Max&Co Womens Jeans and Denim\n",
      "Completed: Max&Co Womens Jumpsuits\n",
      "Completed: Max&Co Womens Shirts Blouses & Tops\n",
      "Completed: Max&Co Womens Skirts\n",
      "Completed: Max&Co Womens Sweaters & Cardigans\n",
      "Completed: Max&Co Womens Sweatshirts & T-Shirts\n",
      "Completed: Max&Co Womens Trousers\n",
      "Completed: MaxMara Womens Dresses\n",
      "Completed: MaxMara Womens Jumpsuits\n",
      "Completed: MaxMara Womens Skirts\n",
      "Completed: MaxMara Womens Suits\n",
      "Completed: MaxMara Womens Sweaters & Cardigans\n",
      "Completed: MaxMara Womens Tops & T-Shirts\n",
      "Completed: MaxMara Womens Trousers & Jeans\n",
      "Completed: Moncler Jackets\n",
      "Completed: Muji Mens Jackets\n",
      "Completed: Muji Mens Knitwear\n",
      "Completed: Muji Mens Shirts\n",
      "Completed: Muji Mens Trousers\n",
      "Completed: Muji Womens Jackets\n",
      "Completed: Muji Womens Knitwear\n",
      "Completed: Muji Womens Shirts\n",
      "Completed: Muji Womens Trousers\n",
      "Completed: Nike Mens Hoodies & Pullovers\n",
      "Completed: Nike Mens Jackets & Vests\n",
      "Completed: Nike Mens Pants & Tights\n",
      "Completed: Nike Mens Shorts\n",
      "Completed: Nike Mens Tops & T-shirts\n",
      "Completed: Nike Womens Dresses\n",
      "Completed: Nike Womens Hoodies & Pullovers\n",
      "Completed: Nike Womens Jackets & Vests\n",
      "Completed: Nike Womens Pants & Tights\n",
      "Completed: Nike Womens Shorts\n",
      "Completed: Nike Womens Skirts\n",
      "Completed: Nike Womens Tops & T-shirts\n",
      "Completed: Ralph_Lauren MEN_dress shirts\n",
      "Completed: Ralph_Lauren MEN_jeans _ denim\n",
      "Completed: Ralph_Lauren MEN_polo-shirts\n",
      "Completed: Ralph_Lauren MEN_shorts _ swim trunks\n",
      "Completed: Ralph_Lauren MEN_suits _ tuxedos\n",
      "Completed: Ralph_Lauren MEN_sweaters _ cardigans\n",
      "Completed: Ralph_Lauren MEN_sweatershirts _ sweatpants _ hoodies\n",
      "Completed: Ralph_Lauren MEN_t-shirts\n",
      "Completed: Ralph_Lauren MEN_trousers _ chinos\n",
      "Completed: Ralph_Lauren WOMEN_Blazers\n",
      "Completed: Ralph_Lauren WOMEN_Dresses _ Jumpsuits\n",
      "Completed: Ralph_Lauren WOMEN_Hoodies _ Sweatshirts\n",
      "Completed: Ralph_Lauren WOMEN_Jeans _ Denim\n",
      "Completed: Ralph_Lauren WOMEN_Polo Shirts\n",
      "Completed: Ralph_Lauren WOMEN_Shorts\n",
      "Completed: Ralph_Lauren WOMEN_Skirts\n",
      "Completed: Ralph_Lauren WOMEN_Sweaters\n",
      "Completed: Ralph_Lauren WOMEN_T-shirts\n",
      "Completed: Ralph_Lauren WOMEN__Jackets, Coats _ Vests\n",
      "Completed: Saint_Laurent Mens Denim\n",
      "Completed: Saint_Laurent Mens Hats\n",
      "Completed: Saint_Laurent Mens Jackets\n",
      "Completed: Saint_Laurent Mens Jewelry\n",
      "Completed: Saint_Laurent Mens Knitwear\n",
      "Completed: Saint_Laurent Mens Leather_and_Fur\n",
      "Completed: Saint_Laurent Mens Outerwear\n",
      "Completed: Saint_Laurent Mens Pants\n",
      "Completed: Saint_Laurent Mens Polo\n",
      "Completed: Saint_Laurent Mens Shirts\n",
      "Completed: Saint_Laurent Mens Shoes\n",
      "Completed: Saint_Laurent Mens Sunglasses\n",
      "Completed: Saint_Laurent Mens Sweatshirts\n",
      "Completed: Saint_Laurent Mens T-shirt\n",
      "Completed: Saint_Laurent Womens Denim\n",
      "Completed: Saint_Laurent Womens Dresses\n",
      "Completed: Saint_Laurent Womens Handbags\n",
      "Completed: Saint_Laurent Womens Hats\n",
      "Completed: Saint_Laurent Womens Jackets\n",
      "Completed: Saint_Laurent Womens Jewellry\n",
      "Completed: Saint_Laurent Womens Knitwear\n",
      "Completed: Saint_Laurent Womens Leather_and_Fur\n",
      "Completed: Saint_Laurent Womens Outerwear\n",
      "Completed: Saint_Laurent Womens Shirts_and_Blouses\n",
      "Completed: Saint_Laurent Womens Shoes\n",
      "Completed: Saint_Laurent Womens Shorts\n",
      "Completed: Saint_Laurent Womens Skirts\n",
      "Completed: Saint_Laurent Womens Sunglasses\n",
      "Completed: Saint_Laurent Womens Sweatshirts\n",
      "Completed: Saint_Laurent Womens T-Shirts\n",
      "Completed: Saint_Laurent Womens Trousers\n",
      "Completed: Uniqlo Mens Blazer_Cardigan_Coats\n",
      "Completed: Uniqlo Mens Casual Outers\n",
      "Completed: Uniqlo Mens Casual Pants\n",
      "Completed: Uniqlo Mens Casual-shirts\n",
      "Completed: Uniqlo Mens Formal-shirts\n",
      "Completed: Uniqlo Mens Jeans\n",
      "Completed: Uniqlo Mens Longsleeves\n",
      "Completed: Uniqlo Mens Polo-shirt\n",
      "Completed: Uniqlo Mens Shorts\n",
      "Completed: Uniqlo Mens T-shirts_tanktops\n",
      "Completed: Uniqlo Mens Trousers\n",
      "Completed: Uniqlo Womens Blazer_Cardigan_Coats\n",
      "Completed: Uniqlo Womens Casual Outers\n",
      "Completed: Uniqlo Womens Jeans\n",
      "Completed: Uniqlo Womens Longsleeves\n",
      "Completed: Uniqlo Womens Shirts_Blouses\n",
      "Completed: Uniqlo Womens Shorts\n",
      "Completed: Uniqlo Womens Skirts\n",
      "Completed: Uniqlo Womens Sweatwears\n",
      "Completed: Uniqlo Womens T-shirt_tanktops\n"
     ]
    }
   ],
   "source": [
    "#Copy files over based on the mapping table\n",
    "failed = copy_files_train_test_split(origin, destination, mapping)"
   ]
  },
  {
   "cell_type": "code",
   "execution_count": 90,
   "metadata": {},
   "outputs": [
    {
     "output_type": "execute_result",
     "data": {
      "text/plain": [
       "[]"
      ]
     },
     "metadata": {},
     "execution_count": 90
    }
   ],
   "source": [
    "#Check if any folders failed to copy over\n",
    "failed"
   ]
  },
  {
   "cell_type": "code",
   "execution_count": 68,
   "metadata": {},
   "outputs": [],
   "source": [
    "# Count number of images for each category\n",
    "count = {}\n",
    "for category in os.listdir(destination):\n",
    "    count[category] = len([image for image in os.listdir(destination + category)])"
   ]
  },
  {
   "cell_type": "code",
   "execution_count": 69,
   "metadata": {},
   "outputs": [
    {
     "output_type": "display_data",
     "data": {
      "text/plain": "<Figure size 432x288 with 1 Axes>",
      "image/svg+xml": "<?xml version=\"1.0\" encoding=\"utf-8\" standalone=\"no\"?>\r\n<!DOCTYPE svg PUBLIC \"-//W3C//DTD SVG 1.1//EN\"\r\n  \"http://www.w3.org/Graphics/SVG/1.1/DTD/svg11.dtd\">\r\n<!-- Created with matplotlib (https://matplotlib.org/) -->\r\n<svg height=\"319.682396pt\" version=\"1.1\" viewBox=\"0 0 381.65 319.682396\" width=\"381.65pt\" xmlns=\"http://www.w3.org/2000/svg\" xmlns:xlink=\"http://www.w3.org/1999/xlink\">\r\n <metadata>\r\n  <rdf:RDF xmlns:cc=\"http://creativecommons.org/ns#\" xmlns:dc=\"http://purl.org/dc/elements/1.1/\" xmlns:rdf=\"http://www.w3.org/1999/02/22-rdf-syntax-ns#\">\r\n   <cc:Work>\r\n    <dc:type rdf:resource=\"http://purl.org/dc/dcmitype/StillImage\"/>\r\n    <dc:date>2021-04-27T13:23:31.821631</dc:date>\r\n    <dc:format>image/svg+xml</dc:format>\r\n    <dc:creator>\r\n     <cc:Agent>\r\n      <dc:title>Matplotlib v3.3.2, https://matplotlib.org/</dc:title>\r\n     </cc:Agent>\r\n    </dc:creator>\r\n   </cc:Work>\r\n  </rdf:RDF>\r\n </metadata>\r\n <defs>\r\n  <style type=\"text/css\">*{stroke-linecap:butt;stroke-linejoin:round;}</style>\r\n </defs>\r\n <g id=\"figure_1\">\r\n  <g id=\"patch_1\">\r\n   <path d=\"M -0 319.682396 \r\nL 381.65 319.682396 \r\nL 381.65 0 \r\nL -0 0 \r\nz\r\n\" style=\"fill:none;\"/>\r\n  </g>\r\n  <g id=\"axes_1\">\r\n   <g id=\"patch_2\">\r\n    <path d=\"M 39.65 227.680833 \r\nL 374.45 227.680833 \r\nL 374.45 10.240833 \r\nL 39.65 10.240833 \r\nz\r\n\" style=\"fill:#ffffff;\"/>\r\n   </g>\r\n   <g id=\"patch_3\">\r\n    <path clip-path=\"url(#pbf154ab934)\" d=\"M 54.868182 227.680833 \r\nL 75.503005 227.680833 \r\nL 75.503005 182.796784 \r\nL 54.868182 182.796784 \r\nz\r\n\" style=\"fill:#1f77b4;\"/>\r\n   </g>\r\n   <g id=\"patch_4\">\r\n    <path clip-path=\"url(#pbf154ab934)\" d=\"M 80.66171 227.680833 \r\nL 101.296533 227.680833 \r\nL 101.296533 150.75886 \r\nL 80.66171 150.75886 \r\nz\r\n\" style=\"fill:#1f77b4;\"/>\r\n   </g>\r\n   <g id=\"patch_5\">\r\n    <path clip-path=\"url(#pbf154ab934)\" d=\"M 106.455239 227.680833 \r\nL 127.090062 227.680833 \r\nL 127.090062 118.566163 \r\nL 106.455239 118.566163 \r\nz\r\n\" style=\"fill:#1f77b4;\"/>\r\n   </g>\r\n   <g id=\"patch_6\">\r\n    <path clip-path=\"url(#pbf154ab934)\" d=\"M 132.248767 227.680833 \r\nL 152.88359 227.680833 \r\nL 152.88359 178.153607 \r\nL 132.248767 178.153607 \r\nz\r\n\" style=\"fill:#1f77b4;\"/>\r\n   </g>\r\n   <g id=\"patch_7\">\r\n    <path clip-path=\"url(#pbf154ab934)\" d=\"M 158.042296 227.680833 \r\nL 178.677119 227.680833 \r\nL 178.677119 62.228943 \r\nL 158.042296 62.228943 \r\nz\r\n\" style=\"fill:#1f77b4;\"/>\r\n   </g>\r\n   <g id=\"patch_8\">\r\n    <path clip-path=\"url(#pbf154ab934)\" d=\"M 183.835824 227.680833 \r\nL 204.470647 227.680833 \r\nL 204.470647 166.390891 \r\nL 183.835824 166.390891 \r\nz\r\n\" style=\"fill:#1f77b4;\"/>\r\n   </g>\r\n   <g id=\"patch_9\">\r\n    <path clip-path=\"url(#pbf154ab934)\" d=\"M 209.629353 227.680833 \r\nL 230.264176 227.680833 \r\nL 230.264176 180.475196 \r\nL 209.629353 180.475196 \r\nz\r\n\" style=\"fill:#1f77b4;\"/>\r\n   </g>\r\n   <g id=\"patch_10\">\r\n    <path clip-path=\"url(#pbf154ab934)\" d=\"M 235.422881 227.680833 \r\nL 256.057704 227.680833 \r\nL 256.057704 159.426125 \r\nL 235.422881 159.426125 \r\nz\r\n\" style=\"fill:#1f77b4;\"/>\r\n   </g>\r\n   <g id=\"patch_11\">\r\n    <path clip-path=\"url(#pbf154ab934)\" d=\"M 261.21641 227.680833 \r\nL 281.851233 227.680833 \r\nL 281.851233 186.356554 \r\nL 261.21641 186.356554 \r\nz\r\n\" style=\"fill:#1f77b4;\"/>\r\n   </g>\r\n   <g id=\"patch_12\">\r\n    <path clip-path=\"url(#pbf154ab934)\" d=\"M 287.009938 227.680833 \r\nL 307.644761 227.680833 \r\nL 307.644761 183.10633 \r\nL 287.009938 183.10633 \r\nz\r\n\" style=\"fill:#1f77b4;\"/>\r\n   </g>\r\n   <g id=\"patch_13\">\r\n    <path clip-path=\"url(#pbf154ab934)\" d=\"M 312.803467 227.680833 \r\nL 333.43829 227.680833 \r\nL 333.43829 20.595119 \r\nL 312.803467 20.595119 \r\nz\r\n\" style=\"fill:#1f77b4;\"/>\r\n   </g>\r\n   <g id=\"patch_14\">\r\n    <path clip-path=\"url(#pbf154ab934)\" d=\"M 338.596995 227.680833 \r\nL 359.231818 227.680833 \r\nL 359.231818 86.373466 \r\nL 338.596995 86.373466 \r\nz\r\n\" style=\"fill:#1f77b4;\"/>\r\n   </g>\r\n   <g id=\"matplotlib.axis_1\">\r\n    <g id=\"xtick_1\">\r\n     <g id=\"line2d_1\">\r\n      <defs>\r\n       <path d=\"M 0 0 \r\nL 0 3.5 \r\n\" id=\"m3471a184be\" style=\"stroke:#000000;stroke-width:0.8;\"/>\r\n      </defs>\r\n      <g>\r\n       <use style=\"stroke:#000000;stroke-width:0.8;\" x=\"65.185593\" xlink:href=\"#m3471a184be\" y=\"227.680833\"/>\r\n      </g>\r\n     </g>\r\n     <g id=\"text_1\">\r\n      <!-- Blouses -->\r\n      <g transform=\"translate(67.944968 273.348021)rotate(-90)scale(0.1 -0.1)\">\r\n       <defs>\r\n        <path d=\"M 19.671875 34.8125 \r\nL 19.671875 8.109375 \r\nL 35.5 8.109375 \r\nQ 43.453125 8.109375 47.28125 11.40625 \r\nQ 51.125 14.703125 51.125 21.484375 \r\nQ 51.125 28.328125 47.28125 31.5625 \r\nQ 43.453125 34.8125 35.5 34.8125 \r\nz\r\nM 19.671875 64.796875 \r\nL 19.671875 42.828125 \r\nL 34.28125 42.828125 \r\nQ 41.5 42.828125 45.03125 45.53125 \r\nQ 48.578125 48.25 48.578125 53.8125 \r\nQ 48.578125 59.328125 45.03125 62.0625 \r\nQ 41.5 64.796875 34.28125 64.796875 \r\nz\r\nM 9.8125 72.90625 \r\nL 35.015625 72.90625 \r\nQ 46.296875 72.90625 52.390625 68.21875 \r\nQ 58.5 63.53125 58.5 54.890625 \r\nQ 58.5 48.1875 55.375 44.234375 \r\nQ 52.25 40.28125 46.1875 39.3125 \r\nQ 53.46875 37.75 57.5 32.78125 \r\nQ 61.53125 27.828125 61.53125 20.40625 \r\nQ 61.53125 10.640625 54.890625 5.3125 \r\nQ 48.25 0 35.984375 0 \r\nL 9.8125 0 \r\nz\r\n\" id=\"DejaVuSans-66\"/>\r\n        <path d=\"M 9.421875 75.984375 \r\nL 18.40625 75.984375 \r\nL 18.40625 0 \r\nL 9.421875 0 \r\nz\r\n\" id=\"DejaVuSans-108\"/>\r\n        <path d=\"M 30.609375 48.390625 \r\nQ 23.390625 48.390625 19.1875 42.75 \r\nQ 14.984375 37.109375 14.984375 27.296875 \r\nQ 14.984375 17.484375 19.15625 11.84375 \r\nQ 23.34375 6.203125 30.609375 6.203125 \r\nQ 37.796875 6.203125 41.984375 11.859375 \r\nQ 46.1875 17.53125 46.1875 27.296875 \r\nQ 46.1875 37.015625 41.984375 42.703125 \r\nQ 37.796875 48.390625 30.609375 48.390625 \r\nz\r\nM 30.609375 56 \r\nQ 42.328125 56 49.015625 48.375 \r\nQ 55.71875 40.765625 55.71875 27.296875 \r\nQ 55.71875 13.875 49.015625 6.21875 \r\nQ 42.328125 -1.421875 30.609375 -1.421875 \r\nQ 18.84375 -1.421875 12.171875 6.21875 \r\nQ 5.515625 13.875 5.515625 27.296875 \r\nQ 5.515625 40.765625 12.171875 48.375 \r\nQ 18.84375 56 30.609375 56 \r\nz\r\n\" id=\"DejaVuSans-111\"/>\r\n        <path d=\"M 8.5 21.578125 \r\nL 8.5 54.6875 \r\nL 17.484375 54.6875 \r\nL 17.484375 21.921875 \r\nQ 17.484375 14.15625 20.5 10.265625 \r\nQ 23.53125 6.390625 29.59375 6.390625 \r\nQ 36.859375 6.390625 41.078125 11.03125 \r\nQ 45.3125 15.671875 45.3125 23.6875 \r\nL 45.3125 54.6875 \r\nL 54.296875 54.6875 \r\nL 54.296875 0 \r\nL 45.3125 0 \r\nL 45.3125 8.40625 \r\nQ 42.046875 3.421875 37.71875 1 \r\nQ 33.40625 -1.421875 27.6875 -1.421875 \r\nQ 18.265625 -1.421875 13.375 4.4375 \r\nQ 8.5 10.296875 8.5 21.578125 \r\nz\r\nM 31.109375 56 \r\nz\r\n\" id=\"DejaVuSans-117\"/>\r\n        <path d=\"M 44.28125 53.078125 \r\nL 44.28125 44.578125 \r\nQ 40.484375 46.53125 36.375 47.5 \r\nQ 32.28125 48.484375 27.875 48.484375 \r\nQ 21.1875 48.484375 17.84375 46.4375 \r\nQ 14.5 44.390625 14.5 40.28125 \r\nQ 14.5 37.15625 16.890625 35.375 \r\nQ 19.28125 33.59375 26.515625 31.984375 \r\nL 29.59375 31.296875 \r\nQ 39.15625 29.25 43.1875 25.515625 \r\nQ 47.21875 21.78125 47.21875 15.09375 \r\nQ 47.21875 7.46875 41.1875 3.015625 \r\nQ 35.15625 -1.421875 24.609375 -1.421875 \r\nQ 20.21875 -1.421875 15.453125 -0.5625 \r\nQ 10.6875 0.296875 5.421875 2 \r\nL 5.421875 11.28125 \r\nQ 10.40625 8.6875 15.234375 7.390625 \r\nQ 20.0625 6.109375 24.8125 6.109375 \r\nQ 31.15625 6.109375 34.5625 8.28125 \r\nQ 37.984375 10.453125 37.984375 14.40625 \r\nQ 37.984375 18.0625 35.515625 20.015625 \r\nQ 33.0625 21.96875 24.703125 23.78125 \r\nL 21.578125 24.515625 \r\nQ 13.234375 26.265625 9.515625 29.90625 \r\nQ 5.8125 33.546875 5.8125 39.890625 \r\nQ 5.8125 47.609375 11.28125 51.796875 \r\nQ 16.75 56 26.8125 56 \r\nQ 31.78125 56 36.171875 55.265625 \r\nQ 40.578125 54.546875 44.28125 53.078125 \r\nz\r\n\" id=\"DejaVuSans-115\"/>\r\n        <path d=\"M 56.203125 29.59375 \r\nL 56.203125 25.203125 \r\nL 14.890625 25.203125 \r\nQ 15.484375 15.921875 20.484375 11.0625 \r\nQ 25.484375 6.203125 34.421875 6.203125 \r\nQ 39.59375 6.203125 44.453125 7.46875 \r\nQ 49.3125 8.734375 54.109375 11.28125 \r\nL 54.109375 2.78125 \r\nQ 49.265625 0.734375 44.1875 -0.34375 \r\nQ 39.109375 -1.421875 33.890625 -1.421875 \r\nQ 20.796875 -1.421875 13.15625 6.1875 \r\nQ 5.515625 13.8125 5.515625 26.8125 \r\nQ 5.515625 40.234375 12.765625 48.109375 \r\nQ 20.015625 56 32.328125 56 \r\nQ 43.359375 56 49.78125 48.890625 \r\nQ 56.203125 41.796875 56.203125 29.59375 \r\nz\r\nM 47.21875 32.234375 \r\nQ 47.125 39.59375 43.09375 43.984375 \r\nQ 39.0625 48.390625 32.421875 48.390625 \r\nQ 24.90625 48.390625 20.390625 44.140625 \r\nQ 15.875 39.890625 15.1875 32.171875 \r\nz\r\n\" id=\"DejaVuSans-101\"/>\r\n       </defs>\r\n       <use xlink:href=\"#DejaVuSans-66\"/>\r\n       <use x=\"68.603516\" xlink:href=\"#DejaVuSans-108\"/>\r\n       <use x=\"96.386719\" xlink:href=\"#DejaVuSans-111\"/>\r\n       <use x=\"157.568359\" xlink:href=\"#DejaVuSans-117\"/>\r\n       <use x=\"220.947266\" xlink:href=\"#DejaVuSans-115\"/>\r\n       <use x=\"273.046875\" xlink:href=\"#DejaVuSans-101\"/>\r\n       <use x=\"334.570312\" xlink:href=\"#DejaVuSans-115\"/>\r\n      </g>\r\n     </g>\r\n    </g>\r\n    <g id=\"xtick_2\">\r\n     <g id=\"line2d_2\">\r\n      <g>\r\n       <use style=\"stroke:#000000;stroke-width:0.8;\" x=\"90.979122\" xlink:href=\"#m3471a184be\" y=\"227.680833\"/>\r\n      </g>\r\n     </g>\r\n     <g id=\"text_2\">\r\n      <!-- Dresses -->\r\n      <g transform=\"translate(93.738497 274.201146)rotate(-90)scale(0.1 -0.1)\">\r\n       <defs>\r\n        <path d=\"M 19.671875 64.796875 \r\nL 19.671875 8.109375 \r\nL 31.59375 8.109375 \r\nQ 46.6875 8.109375 53.6875 14.9375 \r\nQ 60.6875 21.78125 60.6875 36.53125 \r\nQ 60.6875 51.171875 53.6875 57.984375 \r\nQ 46.6875 64.796875 31.59375 64.796875 \r\nz\r\nM 9.8125 72.90625 \r\nL 30.078125 72.90625 \r\nQ 51.265625 72.90625 61.171875 64.09375 \r\nQ 71.09375 55.28125 71.09375 36.53125 \r\nQ 71.09375 17.671875 61.125 8.828125 \r\nQ 51.171875 0 30.078125 0 \r\nL 9.8125 0 \r\nz\r\n\" id=\"DejaVuSans-68\"/>\r\n        <path d=\"M 41.109375 46.296875 \r\nQ 39.59375 47.171875 37.8125 47.578125 \r\nQ 36.03125 48 33.890625 48 \r\nQ 26.265625 48 22.1875 43.046875 \r\nQ 18.109375 38.09375 18.109375 28.8125 \r\nL 18.109375 0 \r\nL 9.078125 0 \r\nL 9.078125 54.6875 \r\nL 18.109375 54.6875 \r\nL 18.109375 46.1875 \r\nQ 20.953125 51.171875 25.484375 53.578125 \r\nQ 30.03125 56 36.53125 56 \r\nQ 37.453125 56 38.578125 55.875 \r\nQ 39.703125 55.765625 41.0625 55.515625 \r\nz\r\n\" id=\"DejaVuSans-114\"/>\r\n       </defs>\r\n       <use xlink:href=\"#DejaVuSans-68\"/>\r\n       <use x=\"77.001953\" xlink:href=\"#DejaVuSans-114\"/>\r\n       <use x=\"115.865234\" xlink:href=\"#DejaVuSans-101\"/>\r\n       <use x=\"177.388672\" xlink:href=\"#DejaVuSans-115\"/>\r\n       <use x=\"229.488281\" xlink:href=\"#DejaVuSans-115\"/>\r\n       <use x=\"281.587891\" xlink:href=\"#DejaVuSans-101\"/>\r\n       <use x=\"343.111328\" xlink:href=\"#DejaVuSans-115\"/>\r\n      </g>\r\n     </g>\r\n    </g>\r\n    <g id=\"xtick_3\">\r\n     <g id=\"line2d_3\">\r\n      <g>\r\n       <use style=\"stroke:#000000;stroke-width:0.8;\" x=\"116.77265\" xlink:href=\"#m3471a184be\" y=\"227.680833\"/>\r\n      </g>\r\n     </g>\r\n     <g id=\"text_3\">\r\n      <!-- Jackets &amp; Coats -->\r\n      <g transform=\"translate(119.532025 312.482396)rotate(-90)scale(0.1 -0.1)\">\r\n       <defs>\r\n        <path d=\"M 9.8125 72.90625 \r\nL 19.671875 72.90625 \r\nL 19.671875 5.078125 \r\nQ 19.671875 -8.109375 14.671875 -14.0625 \r\nQ 9.671875 -20.015625 -1.421875 -20.015625 \r\nL -5.171875 -20.015625 \r\nL -5.171875 -11.71875 \r\nL -2.09375 -11.71875 \r\nQ 4.4375 -11.71875 7.125 -8.046875 \r\nQ 9.8125 -4.390625 9.8125 5.078125 \r\nz\r\n\" id=\"DejaVuSans-74\"/>\r\n        <path d=\"M 34.28125 27.484375 \r\nQ 23.390625 27.484375 19.1875 25 \r\nQ 14.984375 22.515625 14.984375 16.5 \r\nQ 14.984375 11.71875 18.140625 8.90625 \r\nQ 21.296875 6.109375 26.703125 6.109375 \r\nQ 34.1875 6.109375 38.703125 11.40625 \r\nQ 43.21875 16.703125 43.21875 25.484375 \r\nL 43.21875 27.484375 \r\nz\r\nM 52.203125 31.203125 \r\nL 52.203125 0 \r\nL 43.21875 0 \r\nL 43.21875 8.296875 \r\nQ 40.140625 3.328125 35.546875 0.953125 \r\nQ 30.953125 -1.421875 24.3125 -1.421875 \r\nQ 15.921875 -1.421875 10.953125 3.296875 \r\nQ 6 8.015625 6 15.921875 \r\nQ 6 25.140625 12.171875 29.828125 \r\nQ 18.359375 34.515625 30.609375 34.515625 \r\nL 43.21875 34.515625 \r\nL 43.21875 35.40625 \r\nQ 43.21875 41.609375 39.140625 45 \r\nQ 35.0625 48.390625 27.6875 48.390625 \r\nQ 23 48.390625 18.546875 47.265625 \r\nQ 14.109375 46.140625 10.015625 43.890625 \r\nL 10.015625 52.203125 \r\nQ 14.9375 54.109375 19.578125 55.046875 \r\nQ 24.21875 56 28.609375 56 \r\nQ 40.484375 56 46.34375 49.84375 \r\nQ 52.203125 43.703125 52.203125 31.203125 \r\nz\r\n\" id=\"DejaVuSans-97\"/>\r\n        <path d=\"M 48.78125 52.59375 \r\nL 48.78125 44.1875 \r\nQ 44.96875 46.296875 41.140625 47.34375 \r\nQ 37.3125 48.390625 33.40625 48.390625 \r\nQ 24.65625 48.390625 19.8125 42.84375 \r\nQ 14.984375 37.3125 14.984375 27.296875 \r\nQ 14.984375 17.28125 19.8125 11.734375 \r\nQ 24.65625 6.203125 33.40625 6.203125 \r\nQ 37.3125 6.203125 41.140625 7.25 \r\nQ 44.96875 8.296875 48.78125 10.40625 \r\nL 48.78125 2.09375 \r\nQ 45.015625 0.34375 40.984375 -0.53125 \r\nQ 36.96875 -1.421875 32.421875 -1.421875 \r\nQ 20.0625 -1.421875 12.78125 6.34375 \r\nQ 5.515625 14.109375 5.515625 27.296875 \r\nQ 5.515625 40.671875 12.859375 48.328125 \r\nQ 20.21875 56 33.015625 56 \r\nQ 37.15625 56 41.109375 55.140625 \r\nQ 45.0625 54.296875 48.78125 52.59375 \r\nz\r\n\" id=\"DejaVuSans-99\"/>\r\n        <path d=\"M 9.078125 75.984375 \r\nL 18.109375 75.984375 \r\nL 18.109375 31.109375 \r\nL 44.921875 54.6875 \r\nL 56.390625 54.6875 \r\nL 27.390625 29.109375 \r\nL 57.625 0 \r\nL 45.90625 0 \r\nL 18.109375 26.703125 \r\nL 18.109375 0 \r\nL 9.078125 0 \r\nz\r\n\" id=\"DejaVuSans-107\"/>\r\n        <path d=\"M 18.3125 70.21875 \r\nL 18.3125 54.6875 \r\nL 36.8125 54.6875 \r\nL 36.8125 47.703125 \r\nL 18.3125 47.703125 \r\nL 18.3125 18.015625 \r\nQ 18.3125 11.328125 20.140625 9.421875 \r\nQ 21.96875 7.515625 27.59375 7.515625 \r\nL 36.8125 7.515625 \r\nL 36.8125 0 \r\nL 27.59375 0 \r\nQ 17.1875 0 13.234375 3.875 \r\nQ 9.28125 7.765625 9.28125 18.015625 \r\nL 9.28125 47.703125 \r\nL 2.6875 47.703125 \r\nL 2.6875 54.6875 \r\nL 9.28125 54.6875 \r\nL 9.28125 70.21875 \r\nz\r\n\" id=\"DejaVuSans-116\"/>\r\n        <path id=\"DejaVuSans-32\"/>\r\n        <path d=\"M 24.3125 39.203125 \r\nQ 19.875 35.25 17.796875 31.3125 \r\nQ 15.71875 27.390625 15.71875 23.09375 \r\nQ 15.71875 15.96875 20.890625 11.234375 \r\nQ 26.078125 6.5 33.890625 6.5 \r\nQ 38.53125 6.5 42.578125 8.03125 \r\nQ 46.625 9.578125 50.203125 12.703125 \r\nz\r\nM 31.203125 44.671875 \r\nL 56 19.28125 \r\nQ 58.890625 23.640625 60.5 28.59375 \r\nQ 62.109375 33.546875 62.40625 39.109375 \r\nL 71.484375 39.109375 \r\nQ 70.90625 32.671875 68.359375 26.359375 \r\nQ 65.828125 20.0625 61.28125 13.921875 \r\nL 74.90625 0 \r\nL 62.59375 0 \r\nL 55.609375 7.171875 \r\nQ 50.53125 2.828125 44.96875 0.703125 \r\nQ 39.40625 -1.421875 33.015625 -1.421875 \r\nQ 21.234375 -1.421875 13.765625 5.296875 \r\nQ 6.296875 12.015625 6.296875 22.515625 \r\nQ 6.296875 28.765625 9.5625 34.25 \r\nQ 12.84375 39.75 19.390625 44.578125 \r\nQ 17.046875 47.65625 15.8125 50.703125 \r\nQ 14.59375 53.765625 14.59375 56.6875 \r\nQ 14.59375 64.59375 20.015625 69.40625 \r\nQ 25.4375 74.21875 34.421875 74.21875 \r\nQ 38.484375 74.21875 42.5 73.34375 \r\nQ 46.53125 72.46875 50.6875 70.703125 \r\nL 50.6875 61.8125 \r\nQ 46.4375 64.109375 42.578125 65.296875 \r\nQ 38.71875 66.5 35.40625 66.5 \r\nQ 30.28125 66.5 27.078125 63.78125 \r\nQ 23.875 61.078125 23.875 56.78125 \r\nQ 23.875 54.296875 25.3125 51.78125 \r\nQ 26.765625 49.265625 31.203125 44.671875 \r\nz\r\n\" id=\"DejaVuSans-38\"/>\r\n        <path d=\"M 64.40625 67.28125 \r\nL 64.40625 56.890625 \r\nQ 59.421875 61.53125 53.78125 63.8125 \r\nQ 48.140625 66.109375 41.796875 66.109375 \r\nQ 29.296875 66.109375 22.65625 58.46875 \r\nQ 16.015625 50.828125 16.015625 36.375 \r\nQ 16.015625 21.96875 22.65625 14.328125 \r\nQ 29.296875 6.6875 41.796875 6.6875 \r\nQ 48.140625 6.6875 53.78125 8.984375 \r\nQ 59.421875 11.28125 64.40625 15.921875 \r\nL 64.40625 5.609375 \r\nQ 59.234375 2.09375 53.4375 0.328125 \r\nQ 47.65625 -1.421875 41.21875 -1.421875 \r\nQ 24.65625 -1.421875 15.125 8.703125 \r\nQ 5.609375 18.84375 5.609375 36.375 \r\nQ 5.609375 53.953125 15.125 64.078125 \r\nQ 24.65625 74.21875 41.21875 74.21875 \r\nQ 47.75 74.21875 53.53125 72.484375 \r\nQ 59.328125 70.75 64.40625 67.28125 \r\nz\r\n\" id=\"DejaVuSans-67\"/>\r\n       </defs>\r\n       <use xlink:href=\"#DejaVuSans-74\"/>\r\n       <use x=\"29.492188\" xlink:href=\"#DejaVuSans-97\"/>\r\n       <use x=\"90.771484\" xlink:href=\"#DejaVuSans-99\"/>\r\n       <use x=\"145.751953\" xlink:href=\"#DejaVuSans-107\"/>\r\n       <use x=\"200.037109\" xlink:href=\"#DejaVuSans-101\"/>\r\n       <use x=\"261.560547\" xlink:href=\"#DejaVuSans-116\"/>\r\n       <use x=\"300.769531\" xlink:href=\"#DejaVuSans-115\"/>\r\n       <use x=\"352.869141\" xlink:href=\"#DejaVuSans-32\"/>\r\n       <use x=\"384.65625\" xlink:href=\"#DejaVuSans-38\"/>\r\n       <use x=\"462.634766\" xlink:href=\"#DejaVuSans-32\"/>\r\n       <use x=\"494.421875\" xlink:href=\"#DejaVuSans-67\"/>\r\n       <use x=\"564.246094\" xlink:href=\"#DejaVuSans-111\"/>\r\n       <use x=\"625.427734\" xlink:href=\"#DejaVuSans-97\"/>\r\n       <use x=\"686.707031\" xlink:href=\"#DejaVuSans-116\"/>\r\n       <use x=\"725.916016\" xlink:href=\"#DejaVuSans-115\"/>\r\n      </g>\r\n     </g>\r\n    </g>\r\n    <g id=\"xtick_4\">\r\n     <g id=\"line2d_4\">\r\n      <g>\r\n       <use style=\"stroke:#000000;stroke-width:0.8;\" x=\"142.566179\" xlink:href=\"#m3471a184be\" y=\"227.680833\"/>\r\n      </g>\r\n     </g>\r\n     <g id=\"text_4\">\r\n      <!-- Jeans -->\r\n      <g transform=\"translate(145.325554 261.458958)rotate(-90)scale(0.1 -0.1)\">\r\n       <defs>\r\n        <path d=\"M 54.890625 33.015625 \r\nL 54.890625 0 \r\nL 45.90625 0 \r\nL 45.90625 32.71875 \r\nQ 45.90625 40.484375 42.875 44.328125 \r\nQ 39.84375 48.1875 33.796875 48.1875 \r\nQ 26.515625 48.1875 22.3125 43.546875 \r\nQ 18.109375 38.921875 18.109375 30.90625 \r\nL 18.109375 0 \r\nL 9.078125 0 \r\nL 9.078125 54.6875 \r\nL 18.109375 54.6875 \r\nL 18.109375 46.1875 \r\nQ 21.34375 51.125 25.703125 53.5625 \r\nQ 30.078125 56 35.796875 56 \r\nQ 45.21875 56 50.046875 50.171875 \r\nQ 54.890625 44.34375 54.890625 33.015625 \r\nz\r\n\" id=\"DejaVuSans-110\"/>\r\n       </defs>\r\n       <use xlink:href=\"#DejaVuSans-74\"/>\r\n       <use x=\"29.492188\" xlink:href=\"#DejaVuSans-101\"/>\r\n       <use x=\"91.015625\" xlink:href=\"#DejaVuSans-97\"/>\r\n       <use x=\"152.294922\" xlink:href=\"#DejaVuSans-110\"/>\r\n       <use x=\"215.673828\" xlink:href=\"#DejaVuSans-115\"/>\r\n      </g>\r\n     </g>\r\n    </g>\r\n    <g id=\"xtick_5\">\r\n     <g id=\"line2d_5\">\r\n      <g>\r\n       <use style=\"stroke:#000000;stroke-width:0.8;\" x=\"168.359707\" xlink:href=\"#m3471a184be\" y=\"227.680833\"/>\r\n      </g>\r\n     </g>\r\n     <g id=\"text_5\">\r\n      <!-- Jumpers -->\r\n      <g transform=\"translate(171.119082 275.530833)rotate(-90)scale(0.1 -0.1)\">\r\n       <defs>\r\n        <path d=\"M 52 44.1875 \r\nQ 55.375 50.25 60.0625 53.125 \r\nQ 64.75 56 71.09375 56 \r\nQ 79.640625 56 84.28125 50.015625 \r\nQ 88.921875 44.046875 88.921875 33.015625 \r\nL 88.921875 0 \r\nL 79.890625 0 \r\nL 79.890625 32.71875 \r\nQ 79.890625 40.578125 77.09375 44.375 \r\nQ 74.3125 48.1875 68.609375 48.1875 \r\nQ 61.625 48.1875 57.5625 43.546875 \r\nQ 53.515625 38.921875 53.515625 30.90625 \r\nL 53.515625 0 \r\nL 44.484375 0 \r\nL 44.484375 32.71875 \r\nQ 44.484375 40.625 41.703125 44.40625 \r\nQ 38.921875 48.1875 33.109375 48.1875 \r\nQ 26.21875 48.1875 22.15625 43.53125 \r\nQ 18.109375 38.875 18.109375 30.90625 \r\nL 18.109375 0 \r\nL 9.078125 0 \r\nL 9.078125 54.6875 \r\nL 18.109375 54.6875 \r\nL 18.109375 46.1875 \r\nQ 21.1875 51.21875 25.484375 53.609375 \r\nQ 29.78125 56 35.6875 56 \r\nQ 41.65625 56 45.828125 52.96875 \r\nQ 50 49.953125 52 44.1875 \r\nz\r\n\" id=\"DejaVuSans-109\"/>\r\n        <path d=\"M 18.109375 8.203125 \r\nL 18.109375 -20.796875 \r\nL 9.078125 -20.796875 \r\nL 9.078125 54.6875 \r\nL 18.109375 54.6875 \r\nL 18.109375 46.390625 \r\nQ 20.953125 51.265625 25.265625 53.625 \r\nQ 29.59375 56 35.59375 56 \r\nQ 45.5625 56 51.78125 48.09375 \r\nQ 58.015625 40.1875 58.015625 27.296875 \r\nQ 58.015625 14.40625 51.78125 6.484375 \r\nQ 45.5625 -1.421875 35.59375 -1.421875 \r\nQ 29.59375 -1.421875 25.265625 0.953125 \r\nQ 20.953125 3.328125 18.109375 8.203125 \r\nz\r\nM 48.6875 27.296875 \r\nQ 48.6875 37.203125 44.609375 42.84375 \r\nQ 40.53125 48.484375 33.40625 48.484375 \r\nQ 26.265625 48.484375 22.1875 42.84375 \r\nQ 18.109375 37.203125 18.109375 27.296875 \r\nQ 18.109375 17.390625 22.1875 11.75 \r\nQ 26.265625 6.109375 33.40625 6.109375 \r\nQ 40.53125 6.109375 44.609375 11.75 \r\nQ 48.6875 17.390625 48.6875 27.296875 \r\nz\r\n\" id=\"DejaVuSans-112\"/>\r\n       </defs>\r\n       <use xlink:href=\"#DejaVuSans-74\"/>\r\n       <use x=\"29.492188\" xlink:href=\"#DejaVuSans-117\"/>\r\n       <use x=\"92.871094\" xlink:href=\"#DejaVuSans-109\"/>\r\n       <use x=\"190.283203\" xlink:href=\"#DejaVuSans-112\"/>\r\n       <use x=\"253.759766\" xlink:href=\"#DejaVuSans-101\"/>\r\n       <use x=\"315.283203\" xlink:href=\"#DejaVuSans-114\"/>\r\n       <use x=\"356.396484\" xlink:href=\"#DejaVuSans-115\"/>\r\n      </g>\r\n     </g>\r\n    </g>\r\n    <g id=\"xtick_6\">\r\n     <g id=\"line2d_6\">\r\n      <g>\r\n       <use style=\"stroke:#000000;stroke-width:0.8;\" x=\"194.153236\" xlink:href=\"#m3471a184be\" y=\"227.680833\"/>\r\n      </g>\r\n     </g>\r\n     <g id=\"text_6\">\r\n      <!-- Polos -->\r\n      <g transform=\"translate(196.912611 260.573021)rotate(-90)scale(0.1 -0.1)\">\r\n       <defs>\r\n        <path d=\"M 19.671875 64.796875 \r\nL 19.671875 37.40625 \r\nL 32.078125 37.40625 \r\nQ 38.96875 37.40625 42.71875 40.96875 \r\nQ 46.484375 44.53125 46.484375 51.125 \r\nQ 46.484375 57.671875 42.71875 61.234375 \r\nQ 38.96875 64.796875 32.078125 64.796875 \r\nz\r\nM 9.8125 72.90625 \r\nL 32.078125 72.90625 \r\nQ 44.34375 72.90625 50.609375 67.359375 \r\nQ 56.890625 61.8125 56.890625 51.125 \r\nQ 56.890625 40.328125 50.609375 34.8125 \r\nQ 44.34375 29.296875 32.078125 29.296875 \r\nL 19.671875 29.296875 \r\nL 19.671875 0 \r\nL 9.8125 0 \r\nz\r\n\" id=\"DejaVuSans-80\"/>\r\n       </defs>\r\n       <use xlink:href=\"#DejaVuSans-80\"/>\r\n       <use x=\"56.677734\" xlink:href=\"#DejaVuSans-111\"/>\r\n       <use x=\"117.859375\" xlink:href=\"#DejaVuSans-108\"/>\r\n       <use x=\"145.642578\" xlink:href=\"#DejaVuSans-111\"/>\r\n       <use x=\"206.824219\" xlink:href=\"#DejaVuSans-115\"/>\r\n      </g>\r\n     </g>\r\n    </g>\r\n    <g id=\"xtick_7\">\r\n     <g id=\"line2d_7\">\r\n      <g>\r\n       <use style=\"stroke:#000000;stroke-width:0.8;\" x=\"219.946764\" xlink:href=\"#m3471a184be\" y=\"227.680833\"/>\r\n      </g>\r\n     </g>\r\n     <g id=\"text_7\">\r\n      <!-- Shirts -->\r\n      <g transform=\"translate(222.706139 263.385521)rotate(-90)scale(0.1 -0.1)\">\r\n       <defs>\r\n        <path d=\"M 53.515625 70.515625 \r\nL 53.515625 60.890625 \r\nQ 47.90625 63.578125 42.921875 64.890625 \r\nQ 37.9375 66.21875 33.296875 66.21875 \r\nQ 25.25 66.21875 20.875 63.09375 \r\nQ 16.5 59.96875 16.5 54.203125 \r\nQ 16.5 49.359375 19.40625 46.890625 \r\nQ 22.3125 44.4375 30.421875 42.921875 \r\nL 36.375 41.703125 \r\nQ 47.40625 39.59375 52.65625 34.296875 \r\nQ 57.90625 29 57.90625 20.125 \r\nQ 57.90625 9.515625 50.796875 4.046875 \r\nQ 43.703125 -1.421875 29.984375 -1.421875 \r\nQ 24.8125 -1.421875 18.96875 -0.25 \r\nQ 13.140625 0.921875 6.890625 3.21875 \r\nL 6.890625 13.375 \r\nQ 12.890625 10.015625 18.65625 8.296875 \r\nQ 24.421875 6.59375 29.984375 6.59375 \r\nQ 38.421875 6.59375 43.015625 9.90625 \r\nQ 47.609375 13.234375 47.609375 19.390625 \r\nQ 47.609375 24.75 44.3125 27.78125 \r\nQ 41.015625 30.8125 33.5 32.328125 \r\nL 27.484375 33.5 \r\nQ 16.453125 35.6875 11.515625 40.375 \r\nQ 6.59375 45.0625 6.59375 53.421875 \r\nQ 6.59375 63.09375 13.40625 68.65625 \r\nQ 20.21875 74.21875 32.171875 74.21875 \r\nQ 37.3125 74.21875 42.625 73.28125 \r\nQ 47.953125 72.359375 53.515625 70.515625 \r\nz\r\n\" id=\"DejaVuSans-83\"/>\r\n        <path d=\"M 54.890625 33.015625 \r\nL 54.890625 0 \r\nL 45.90625 0 \r\nL 45.90625 32.71875 \r\nQ 45.90625 40.484375 42.875 44.328125 \r\nQ 39.84375 48.1875 33.796875 48.1875 \r\nQ 26.515625 48.1875 22.3125 43.546875 \r\nQ 18.109375 38.921875 18.109375 30.90625 \r\nL 18.109375 0 \r\nL 9.078125 0 \r\nL 9.078125 75.984375 \r\nL 18.109375 75.984375 \r\nL 18.109375 46.1875 \r\nQ 21.34375 51.125 25.703125 53.5625 \r\nQ 30.078125 56 35.796875 56 \r\nQ 45.21875 56 50.046875 50.171875 \r\nQ 54.890625 44.34375 54.890625 33.015625 \r\nz\r\n\" id=\"DejaVuSans-104\"/>\r\n        <path d=\"M 9.421875 54.6875 \r\nL 18.40625 54.6875 \r\nL 18.40625 0 \r\nL 9.421875 0 \r\nz\r\nM 9.421875 75.984375 \r\nL 18.40625 75.984375 \r\nL 18.40625 64.59375 \r\nL 9.421875 64.59375 \r\nz\r\n\" id=\"DejaVuSans-105\"/>\r\n       </defs>\r\n       <use xlink:href=\"#DejaVuSans-83\"/>\r\n       <use x=\"63.476562\" xlink:href=\"#DejaVuSans-104\"/>\r\n       <use x=\"126.855469\" xlink:href=\"#DejaVuSans-105\"/>\r\n       <use x=\"154.638672\" xlink:href=\"#DejaVuSans-114\"/>\r\n       <use x=\"195.751953\" xlink:href=\"#DejaVuSans-116\"/>\r\n       <use x=\"234.960938\" xlink:href=\"#DejaVuSans-115\"/>\r\n      </g>\r\n     </g>\r\n    </g>\r\n    <g id=\"xtick_8\">\r\n     <g id=\"line2d_8\">\r\n      <g>\r\n       <use style=\"stroke:#000000;stroke-width:0.8;\" x=\"245.740293\" xlink:href=\"#m3471a184be\" y=\"227.680833\"/>\r\n      </g>\r\n     </g>\r\n     <g id=\"text_8\">\r\n      <!-- Shorts -->\r\n      <g transform=\"translate(248.499668 266.726146)rotate(-90)scale(0.1 -0.1)\">\r\n       <use xlink:href=\"#DejaVuSans-83\"/>\r\n       <use x=\"63.476562\" xlink:href=\"#DejaVuSans-104\"/>\r\n       <use x=\"126.855469\" xlink:href=\"#DejaVuSans-111\"/>\r\n       <use x=\"188.037109\" xlink:href=\"#DejaVuSans-114\"/>\r\n       <use x=\"229.150391\" xlink:href=\"#DejaVuSans-116\"/>\r\n       <use x=\"268.359375\" xlink:href=\"#DejaVuSans-115\"/>\r\n      </g>\r\n     </g>\r\n    </g>\r\n    <g id=\"xtick_9\">\r\n     <g id=\"line2d_9\">\r\n      <g>\r\n       <use style=\"stroke:#000000;stroke-width:0.8;\" x=\"271.533821\" xlink:href=\"#m3471a184be\" y=\"227.680833\"/>\r\n      </g>\r\n     </g>\r\n     <g id=\"text_9\">\r\n      <!-- Skirts -->\r\n      <g transform=\"translate(274.293196 262.838646)rotate(-90)scale(0.1 -0.1)\">\r\n       <use xlink:href=\"#DejaVuSans-83\"/>\r\n       <use x=\"63.476562\" xlink:href=\"#DejaVuSans-107\"/>\r\n       <use x=\"121.386719\" xlink:href=\"#DejaVuSans-105\"/>\r\n       <use x=\"149.169922\" xlink:href=\"#DejaVuSans-114\"/>\r\n       <use x=\"190.283203\" xlink:href=\"#DejaVuSans-116\"/>\r\n       <use x=\"229.492188\" xlink:href=\"#DejaVuSans-115\"/>\r\n      </g>\r\n     </g>\r\n    </g>\r\n    <g id=\"xtick_10\">\r\n     <g id=\"line2d_10\">\r\n      <g>\r\n       <use style=\"stroke:#000000;stroke-width:0.8;\" x=\"297.32735\" xlink:href=\"#m3471a184be\" y=\"227.680833\"/>\r\n      </g>\r\n     </g>\r\n     <g id=\"text_10\">\r\n      <!-- Suits -->\r\n      <g transform=\"translate(300.086725 259.274583)rotate(-90)scale(0.1 -0.1)\">\r\n       <use xlink:href=\"#DejaVuSans-83\"/>\r\n       <use x=\"63.476562\" xlink:href=\"#DejaVuSans-117\"/>\r\n       <use x=\"126.855469\" xlink:href=\"#DejaVuSans-105\"/>\r\n       <use x=\"154.638672\" xlink:href=\"#DejaVuSans-116\"/>\r\n       <use x=\"193.847656\" xlink:href=\"#DejaVuSans-115\"/>\r\n      </g>\r\n     </g>\r\n    </g>\r\n    <g id=\"xtick_11\">\r\n     <g id=\"line2d_11\">\r\n      <g>\r\n       <use style=\"stroke:#000000;stroke-width:0.8;\" x=\"323.120878\" xlink:href=\"#m3471a184be\" y=\"227.680833\"/>\r\n      </g>\r\n     </g>\r\n     <g id=\"text_11\">\r\n      <!-- T-Shirts -->\r\n      <g transform=\"translate(325.880253 272.188646)rotate(-90)scale(0.1 -0.1)\">\r\n       <defs>\r\n        <path d=\"M -0.296875 72.90625 \r\nL 61.375 72.90625 \r\nL 61.375 64.59375 \r\nL 35.5 64.59375 \r\nL 35.5 0 \r\nL 25.59375 0 \r\nL 25.59375 64.59375 \r\nL -0.296875 64.59375 \r\nz\r\n\" id=\"DejaVuSans-84\"/>\r\n        <path d=\"M 4.890625 31.390625 \r\nL 31.203125 31.390625 \r\nL 31.203125 23.390625 \r\nL 4.890625 23.390625 \r\nz\r\n\" id=\"DejaVuSans-45\"/>\r\n       </defs>\r\n       <use xlink:href=\"#DejaVuSans-84\"/>\r\n       <use x=\"51.958984\" xlink:href=\"#DejaVuSans-45\"/>\r\n       <use x=\"88.042969\" xlink:href=\"#DejaVuSans-83\"/>\r\n       <use x=\"151.519531\" xlink:href=\"#DejaVuSans-104\"/>\r\n       <use x=\"214.898438\" xlink:href=\"#DejaVuSans-105\"/>\r\n       <use x=\"242.681641\" xlink:href=\"#DejaVuSans-114\"/>\r\n       <use x=\"283.794922\" xlink:href=\"#DejaVuSans-116\"/>\r\n       <use x=\"323.003906\" xlink:href=\"#DejaVuSans-115\"/>\r\n      </g>\r\n     </g>\r\n    </g>\r\n    <g id=\"xtick_12\">\r\n     <g id=\"line2d_12\">\r\n      <g>\r\n       <use style=\"stroke:#000000;stroke-width:0.8;\" x=\"348.914407\" xlink:href=\"#m3471a184be\" y=\"227.680833\"/>\r\n      </g>\r\n     </g>\r\n     <g id=\"text_12\">\r\n      <!-- Trousers -->\r\n      <g transform=\"translate(351.673782 276.338646)rotate(-90)scale(0.1 -0.1)\">\r\n       <use xlink:href=\"#DejaVuSans-84\"/>\r\n       <use x=\"46.333984\" xlink:href=\"#DejaVuSans-114\"/>\r\n       <use x=\"85.197266\" xlink:href=\"#DejaVuSans-111\"/>\r\n       <use x=\"146.378906\" xlink:href=\"#DejaVuSans-117\"/>\r\n       <use x=\"209.757812\" xlink:href=\"#DejaVuSans-115\"/>\r\n       <use x=\"261.857422\" xlink:href=\"#DejaVuSans-101\"/>\r\n       <use x=\"323.380859\" xlink:href=\"#DejaVuSans-114\"/>\r\n       <use x=\"364.494141\" xlink:href=\"#DejaVuSans-115\"/>\r\n      </g>\r\n     </g>\r\n    </g>\r\n   </g>\r\n   <g id=\"matplotlib.axis_2\">\r\n    <g id=\"ytick_1\">\r\n     <g id=\"line2d_13\">\r\n      <defs>\r\n       <path d=\"M 0 0 \r\nL -3.5 0 \r\n\" id=\"m9051f49924\" style=\"stroke:#000000;stroke-width:0.8;\"/>\r\n      </defs>\r\n      <g>\r\n       <use style=\"stroke:#000000;stroke-width:0.8;\" x=\"39.65\" xlink:href=\"#m9051f49924\" y=\"227.680833\"/>\r\n      </g>\r\n     </g>\r\n     <g id=\"text_13\">\r\n      <!-- 0 -->\r\n      <g transform=\"translate(26.2875 231.480052)scale(0.1 -0.1)\">\r\n       <defs>\r\n        <path d=\"M 31.78125 66.40625 \r\nQ 24.171875 66.40625 20.328125 58.90625 \r\nQ 16.5 51.421875 16.5 36.375 \r\nQ 16.5 21.390625 20.328125 13.890625 \r\nQ 24.171875 6.390625 31.78125 6.390625 \r\nQ 39.453125 6.390625 43.28125 13.890625 \r\nQ 47.125 21.390625 47.125 36.375 \r\nQ 47.125 51.421875 43.28125 58.90625 \r\nQ 39.453125 66.40625 31.78125 66.40625 \r\nz\r\nM 31.78125 74.21875 \r\nQ 44.046875 74.21875 50.515625 64.515625 \r\nQ 56.984375 54.828125 56.984375 36.375 \r\nQ 56.984375 17.96875 50.515625 8.265625 \r\nQ 44.046875 -1.421875 31.78125 -1.421875 \r\nQ 19.53125 -1.421875 13.0625 8.265625 \r\nQ 6.59375 17.96875 6.59375 36.375 \r\nQ 6.59375 54.828125 13.0625 64.515625 \r\nQ 19.53125 74.21875 31.78125 74.21875 \r\nz\r\n\" id=\"DejaVuSans-48\"/>\r\n       </defs>\r\n       <use xlink:href=\"#DejaVuSans-48\"/>\r\n      </g>\r\n     </g>\r\n    </g>\r\n    <g id=\"ytick_2\">\r\n     <g id=\"line2d_14\">\r\n      <g>\r\n       <use style=\"stroke:#000000;stroke-width:0.8;\" x=\"39.65\" xlink:href=\"#m9051f49924\" y=\"196.726317\"/>\r\n      </g>\r\n     </g>\r\n     <g id=\"text_14\">\r\n      <!-- 200 -->\r\n      <g transform=\"translate(13.5625 200.525536)scale(0.1 -0.1)\">\r\n       <defs>\r\n        <path d=\"M 19.1875 8.296875 \r\nL 53.609375 8.296875 \r\nL 53.609375 0 \r\nL 7.328125 0 \r\nL 7.328125 8.296875 \r\nQ 12.9375 14.109375 22.625 23.890625 \r\nQ 32.328125 33.6875 34.8125 36.53125 \r\nQ 39.546875 41.84375 41.421875 45.53125 \r\nQ 43.3125 49.21875 43.3125 52.78125 \r\nQ 43.3125 58.59375 39.234375 62.25 \r\nQ 35.15625 65.921875 28.609375 65.921875 \r\nQ 23.96875 65.921875 18.8125 64.3125 \r\nQ 13.671875 62.703125 7.8125 59.421875 \r\nL 7.8125 69.390625 \r\nQ 13.765625 71.78125 18.9375 73 \r\nQ 24.125 74.21875 28.421875 74.21875 \r\nQ 39.75 74.21875 46.484375 68.546875 \r\nQ 53.21875 62.890625 53.21875 53.421875 \r\nQ 53.21875 48.921875 51.53125 44.890625 \r\nQ 49.859375 40.875 45.40625 35.40625 \r\nQ 44.1875 33.984375 37.640625 27.21875 \r\nQ 31.109375 20.453125 19.1875 8.296875 \r\nz\r\n\" id=\"DejaVuSans-50\"/>\r\n       </defs>\r\n       <use xlink:href=\"#DejaVuSans-50\"/>\r\n       <use x=\"63.623047\" xlink:href=\"#DejaVuSans-48\"/>\r\n       <use x=\"127.246094\" xlink:href=\"#DejaVuSans-48\"/>\r\n      </g>\r\n     </g>\r\n    </g>\r\n    <g id=\"ytick_3\">\r\n     <g id=\"line2d_15\">\r\n      <g>\r\n       <use style=\"stroke:#000000;stroke-width:0.8;\" x=\"39.65\" xlink:href=\"#m9051f49924\" y=\"165.7718\"/>\r\n      </g>\r\n     </g>\r\n     <g id=\"text_15\">\r\n      <!-- 400 -->\r\n      <g transform=\"translate(13.5625 169.571019)scale(0.1 -0.1)\">\r\n       <defs>\r\n        <path d=\"M 37.796875 64.3125 \r\nL 12.890625 25.390625 \r\nL 37.796875 25.390625 \r\nz\r\nM 35.203125 72.90625 \r\nL 47.609375 72.90625 \r\nL 47.609375 25.390625 \r\nL 58.015625 25.390625 \r\nL 58.015625 17.1875 \r\nL 47.609375 17.1875 \r\nL 47.609375 0 \r\nL 37.796875 0 \r\nL 37.796875 17.1875 \r\nL 4.890625 17.1875 \r\nL 4.890625 26.703125 \r\nz\r\n\" id=\"DejaVuSans-52\"/>\r\n       </defs>\r\n       <use xlink:href=\"#DejaVuSans-52\"/>\r\n       <use x=\"63.623047\" xlink:href=\"#DejaVuSans-48\"/>\r\n       <use x=\"127.246094\" xlink:href=\"#DejaVuSans-48\"/>\r\n      </g>\r\n     </g>\r\n    </g>\r\n    <g id=\"ytick_4\">\r\n     <g id=\"line2d_16\">\r\n      <g>\r\n       <use style=\"stroke:#000000;stroke-width:0.8;\" x=\"39.65\" xlink:href=\"#m9051f49924\" y=\"134.817284\"/>\r\n      </g>\r\n     </g>\r\n     <g id=\"text_16\">\r\n      <!-- 600 -->\r\n      <g transform=\"translate(13.5625 138.616503)scale(0.1 -0.1)\">\r\n       <defs>\r\n        <path d=\"M 33.015625 40.375 \r\nQ 26.375 40.375 22.484375 35.828125 \r\nQ 18.609375 31.296875 18.609375 23.390625 \r\nQ 18.609375 15.53125 22.484375 10.953125 \r\nQ 26.375 6.390625 33.015625 6.390625 \r\nQ 39.65625 6.390625 43.53125 10.953125 \r\nQ 47.40625 15.53125 47.40625 23.390625 \r\nQ 47.40625 31.296875 43.53125 35.828125 \r\nQ 39.65625 40.375 33.015625 40.375 \r\nz\r\nM 52.59375 71.296875 \r\nL 52.59375 62.3125 \r\nQ 48.875 64.0625 45.09375 64.984375 \r\nQ 41.3125 65.921875 37.59375 65.921875 \r\nQ 27.828125 65.921875 22.671875 59.328125 \r\nQ 17.53125 52.734375 16.796875 39.40625 \r\nQ 19.671875 43.65625 24.015625 45.921875 \r\nQ 28.375 48.1875 33.59375 48.1875 \r\nQ 44.578125 48.1875 50.953125 41.515625 \r\nQ 57.328125 34.859375 57.328125 23.390625 \r\nQ 57.328125 12.15625 50.6875 5.359375 \r\nQ 44.046875 -1.421875 33.015625 -1.421875 \r\nQ 20.359375 -1.421875 13.671875 8.265625 \r\nQ 6.984375 17.96875 6.984375 36.375 \r\nQ 6.984375 53.65625 15.1875 63.9375 \r\nQ 23.390625 74.21875 37.203125 74.21875 \r\nQ 40.921875 74.21875 44.703125 73.484375 \r\nQ 48.484375 72.75 52.59375 71.296875 \r\nz\r\n\" id=\"DejaVuSans-54\"/>\r\n       </defs>\r\n       <use xlink:href=\"#DejaVuSans-54\"/>\r\n       <use x=\"63.623047\" xlink:href=\"#DejaVuSans-48\"/>\r\n       <use x=\"127.246094\" xlink:href=\"#DejaVuSans-48\"/>\r\n      </g>\r\n     </g>\r\n    </g>\r\n    <g id=\"ytick_5\">\r\n     <g id=\"line2d_17\">\r\n      <g>\r\n       <use style=\"stroke:#000000;stroke-width:0.8;\" x=\"39.65\" xlink:href=\"#m9051f49924\" y=\"103.862768\"/>\r\n      </g>\r\n     </g>\r\n     <g id=\"text_17\">\r\n      <!-- 800 -->\r\n      <g transform=\"translate(13.5625 107.661987)scale(0.1 -0.1)\">\r\n       <defs>\r\n        <path d=\"M 31.78125 34.625 \r\nQ 24.75 34.625 20.71875 30.859375 \r\nQ 16.703125 27.09375 16.703125 20.515625 \r\nQ 16.703125 13.921875 20.71875 10.15625 \r\nQ 24.75 6.390625 31.78125 6.390625 \r\nQ 38.8125 6.390625 42.859375 10.171875 \r\nQ 46.921875 13.96875 46.921875 20.515625 \r\nQ 46.921875 27.09375 42.890625 30.859375 \r\nQ 38.875 34.625 31.78125 34.625 \r\nz\r\nM 21.921875 38.8125 \r\nQ 15.578125 40.375 12.03125 44.71875 \r\nQ 8.5 49.078125 8.5 55.328125 \r\nQ 8.5 64.0625 14.71875 69.140625 \r\nQ 20.953125 74.21875 31.78125 74.21875 \r\nQ 42.671875 74.21875 48.875 69.140625 \r\nQ 55.078125 64.0625 55.078125 55.328125 \r\nQ 55.078125 49.078125 51.53125 44.71875 \r\nQ 48 40.375 41.703125 38.8125 \r\nQ 48.828125 37.15625 52.796875 32.3125 \r\nQ 56.78125 27.484375 56.78125 20.515625 \r\nQ 56.78125 9.90625 50.3125 4.234375 \r\nQ 43.84375 -1.421875 31.78125 -1.421875 \r\nQ 19.734375 -1.421875 13.25 4.234375 \r\nQ 6.78125 9.90625 6.78125 20.515625 \r\nQ 6.78125 27.484375 10.78125 32.3125 \r\nQ 14.796875 37.15625 21.921875 38.8125 \r\nz\r\nM 18.3125 54.390625 \r\nQ 18.3125 48.734375 21.84375 45.5625 \r\nQ 25.390625 42.390625 31.78125 42.390625 \r\nQ 38.140625 42.390625 41.71875 45.5625 \r\nQ 45.3125 48.734375 45.3125 54.390625 \r\nQ 45.3125 60.0625 41.71875 63.234375 \r\nQ 38.140625 66.40625 31.78125 66.40625 \r\nQ 25.390625 66.40625 21.84375 63.234375 \r\nQ 18.3125 60.0625 18.3125 54.390625 \r\nz\r\n\" id=\"DejaVuSans-56\"/>\r\n       </defs>\r\n       <use xlink:href=\"#DejaVuSans-56\"/>\r\n       <use x=\"63.623047\" xlink:href=\"#DejaVuSans-48\"/>\r\n       <use x=\"127.246094\" xlink:href=\"#DejaVuSans-48\"/>\r\n      </g>\r\n     </g>\r\n    </g>\r\n    <g id=\"ytick_6\">\r\n     <g id=\"line2d_18\">\r\n      <g>\r\n       <use style=\"stroke:#000000;stroke-width:0.8;\" x=\"39.65\" xlink:href=\"#m9051f49924\" y=\"72.908251\"/>\r\n      </g>\r\n     </g>\r\n     <g id=\"text_18\">\r\n      <!-- 1000 -->\r\n      <g transform=\"translate(7.2 76.70747)scale(0.1 -0.1)\">\r\n       <defs>\r\n        <path d=\"M 12.40625 8.296875 \r\nL 28.515625 8.296875 \r\nL 28.515625 63.921875 \r\nL 10.984375 60.40625 \r\nL 10.984375 69.390625 \r\nL 28.421875 72.90625 \r\nL 38.28125 72.90625 \r\nL 38.28125 8.296875 \r\nL 54.390625 8.296875 \r\nL 54.390625 0 \r\nL 12.40625 0 \r\nz\r\n\" id=\"DejaVuSans-49\"/>\r\n       </defs>\r\n       <use xlink:href=\"#DejaVuSans-49\"/>\r\n       <use x=\"63.623047\" xlink:href=\"#DejaVuSans-48\"/>\r\n       <use x=\"127.246094\" xlink:href=\"#DejaVuSans-48\"/>\r\n       <use x=\"190.869141\" xlink:href=\"#DejaVuSans-48\"/>\r\n      </g>\r\n     </g>\r\n    </g>\r\n    <g id=\"ytick_7\">\r\n     <g id=\"line2d_19\">\r\n      <g>\r\n       <use style=\"stroke:#000000;stroke-width:0.8;\" x=\"39.65\" xlink:href=\"#m9051f49924\" y=\"41.953735\"/>\r\n      </g>\r\n     </g>\r\n     <g id=\"text_19\">\r\n      <!-- 1200 -->\r\n      <g transform=\"translate(7.2 45.752954)scale(0.1 -0.1)\">\r\n       <use xlink:href=\"#DejaVuSans-49\"/>\r\n       <use x=\"63.623047\" xlink:href=\"#DejaVuSans-50\"/>\r\n       <use x=\"127.246094\" xlink:href=\"#DejaVuSans-48\"/>\r\n       <use x=\"190.869141\" xlink:href=\"#DejaVuSans-48\"/>\r\n      </g>\r\n     </g>\r\n    </g>\r\n    <g id=\"ytick_8\">\r\n     <g id=\"line2d_20\">\r\n      <g>\r\n       <use style=\"stroke:#000000;stroke-width:0.8;\" x=\"39.65\" xlink:href=\"#m9051f49924\" y=\"10.999219\"/>\r\n      </g>\r\n     </g>\r\n     <g id=\"text_20\">\r\n      <!-- 1400 -->\r\n      <g transform=\"translate(7.2 14.798438)scale(0.1 -0.1)\">\r\n       <use xlink:href=\"#DejaVuSans-49\"/>\r\n       <use x=\"63.623047\" xlink:href=\"#DejaVuSans-52\"/>\r\n       <use x=\"127.246094\" xlink:href=\"#DejaVuSans-48\"/>\r\n       <use x=\"190.869141\" xlink:href=\"#DejaVuSans-48\"/>\r\n      </g>\r\n     </g>\r\n    </g>\r\n   </g>\r\n   <g id=\"patch_15\">\r\n    <path d=\"M 39.65 227.680833 \r\nL 39.65 10.240833 \r\n\" style=\"fill:none;stroke:#000000;stroke-linecap:square;stroke-linejoin:miter;stroke-width:0.8;\"/>\r\n   </g>\r\n   <g id=\"patch_16\">\r\n    <path d=\"M 374.45 227.680833 \r\nL 374.45 10.240833 \r\n\" style=\"fill:none;stroke:#000000;stroke-linecap:square;stroke-linejoin:miter;stroke-width:0.8;\"/>\r\n   </g>\r\n   <g id=\"patch_17\">\r\n    <path d=\"M 39.65 227.680833 \r\nL 374.45 227.680833 \r\n\" style=\"fill:none;stroke:#000000;stroke-linecap:square;stroke-linejoin:miter;stroke-width:0.8;\"/>\r\n   </g>\r\n   <g id=\"patch_18\">\r\n    <path d=\"M 39.65 10.240833 \r\nL 374.45 10.240833 \r\n\" style=\"fill:none;stroke:#000000;stroke-linecap:square;stroke-linejoin:miter;stroke-width:0.8;\"/>\r\n   </g>\r\n  </g>\r\n </g>\r\n <defs>\r\n  <clipPath id=\"pbf154ab934\">\r\n   <rect height=\"217.44\" width=\"334.8\" x=\"39.65\" y=\"10.240833\"/>\r\n  </clipPath>\r\n </defs>\r\n</svg>\r\n",
      "image/png": "[encoded data removed]"
     },
     "metadata": {
      "needs_background": "light"
     }
    }
   ],
   "source": [
    "#Plot bar graph\n",
    "plt.bar(count.keys(), count.values())\n",
    "plt.xticks(rotation = 90)\n",
    "plt.show()"
   ]
  },
  {
   "cell_type": "code",
   "execution_count": 70,
   "metadata": {},
   "outputs": [
    {
     "output_type": "execute_result",
     "data": {
      "text/plain": [
       "{'Blouses': 290,\n",
       " 'Dresses': 497,\n",
       " 'Jackets & Coats': 705,\n",
       " 'Jeans': 320,\n",
       " 'Jumpers': 1069,\n",
       " 'Polos': 396,\n",
       " 'Shirts': 305,\n",
       " 'Shorts': 441,\n",
       " 'Skirts': 267,\n",
       " 'Suits': 288,\n",
       " 'T-Shirts': 1338,\n",
       " 'Trousers': 913}"
      ]
     },
     "metadata": {},
     "execution_count": 70
    }
   ],
   "source": [
    "count"
   ]
  },
  {
   "cell_type": "code",
   "execution_count": null,
   "metadata": {},
   "outputs": [],
   "source": []
  }
 ]
}