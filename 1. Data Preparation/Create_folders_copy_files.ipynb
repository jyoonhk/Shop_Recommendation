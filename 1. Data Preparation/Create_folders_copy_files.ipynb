{
 "metadata": {
  "language_info": {
   "codemirror_mode": {
    "name": "ipython",
    "version": 3
   },
   "file_extension": ".py",
   "mimetype": "text/x-python",
   "name": "python",
   "nbconvert_exporter": "python",
   "pygments_lexer": "ipython3",
   "version": "3.8.5"
  },
  "orig_nbformat": 2,
  "kernelspec": {
   "name": "python385jvsc74a57bd010d0ca335ba18670d796e60c368a3acb961c71d35c9c1e61688d5bfee08a5df3",
   "display_name": "Python 3.8.5 64-bit ('FTDS': conda)"
  }
 },
 "nbformat": 4,
 "nbformat_minor": 2,
 "cells": [
  {
   "cell_type": "code",
   "execution_count": 1,
   "metadata": {},
   "outputs": [],
   "source": [
    "#Import libraries\n",
    "import pandas as pd\n",
    "import numpy as np\n",
    "import shutil, os\n",
    "import matplotlib.pyplot as plt\n",
    "import seaborn as sns\n",
    "from PIL import Image"
   ]
  },
  {
   "cell_type": "code",
   "execution_count": 59,
   "metadata": {},
   "outputs": [
    {
     "output_type": "execute_result",
     "data": {
      "text/plain": [
       "                      Combined\n",
       "Original                      \n",
       "Brooks-MensPants      Trousers\n",
       "Brooks-MensShorts       Shorts\n",
       "Brooks-MensSuits         Suits\n",
       "Brooks-WomenDresses    Dresses\n",
       "Brooks-WomenKnitwear   Jumpers"
      ],
      "text/html": "<div>\n<style scoped>\n    .dataframe tbody tr th:only-of-type {\n        vertical-align: middle;\n    }\n\n    .dataframe tbody tr th {\n        vertical-align: top;\n    }\n\n    .dataframe thead th {\n        text-align: right;\n    }\n</style>\n<table border=\"1\" class=\"dataframe\">\n  <thead>\n    <tr style=\"text-align: right;\">\n      <th></th>\n      <th>Combined</th>\n    </tr>\n    <tr>\n      <th>Original</th>\n      <th></th>\n    </tr>\n  </thead>\n  <tbody>\n    <tr>\n      <th>Brooks-MensPants</th>\n      <td>Trousers</td>\n    </tr>\n    <tr>\n      <th>Brooks-MensShorts</th>\n      <td>Shorts</td>\n    </tr>\n    <tr>\n      <th>Brooks-MensSuits</th>\n      <td>Suits</td>\n    </tr>\n    <tr>\n      <th>Brooks-WomenDresses</th>\n      <td>Dresses</td>\n    </tr>\n    <tr>\n      <th>Brooks-WomenKnitwear</th>\n      <td>Jumpers</td>\n    </tr>\n  </tbody>\n</table>\n</div>"
     },
     "metadata": {},
     "execution_count": 59
    }
   ],
   "source": [
    "# Define folders and load mapping.csv file\n",
    "origin = 'C:/Users/danie/Documents/FTDS/Capstone/1. Webscraping/Output/'\n",
    "destination = 'C:/Users/danie/Documents/FTDS/Capstone/3. Model/Data/'\n",
    "mapping = pd.read_csv('mapping.csv')\n",
    "mapping.set_index('Original', inplace = True) # set index, so we can use .loc[] function\n",
    "mapping.head()"
   ]
  },
  {
   "cell_type": "code",
   "execution_count": 53,
   "metadata": {},
   "outputs": [
    {
     "output_type": "execute_result",
     "data": {
      "text/plain": [
       "array(['Trousers', 'Shorts', 'Suits', 'Dresses', 'Jumpers', 'Skirts',\n",
       "       'Tops', 'Blouses', 'Shirts', 'T-Shirts', 'Jackets & Coats',\n",
       "       'Jeans', 'Accessories', 'Polos', 'Shoes'], dtype=object)"
      ]
     },
     "metadata": {},
     "execution_count": 53
    }
   ],
   "source": [
    "#Check mapping clothing categories\n",
    "mapping['Combined'].unique()"
   ]
  },
  {
   "cell_type": "code",
   "execution_count": 54,
   "metadata": {},
   "outputs": [],
   "source": [
    "#Define function to create empty folders\n",
    "def create_category_folders(destination, mapping):\n",
    "    for category in mapping['Combined'].unique():\n",
    "        try:\n",
    "            os.mkdir(os.path.join(destination, category))\n",
    "        except:\n",
    "            pass"
   ]
  },
  {
   "cell_type": "code",
   "execution_count": 55,
   "metadata": {},
   "outputs": [],
   "source": [
    "#Define function to loop through shop and category combinations\n",
    "# Save all images in folders to corresponding folder based on mapping table\n",
    "def copy_files(origin, destination, mapping):\n",
    "    failed = []\n",
    "    for brand in os.listdir(origin): # loop through folder for each shop/brand\n",
    "        for category in os.listdir(origin + brand): # loop through each category within a shop/brand\n",
    "            try:\n",
    "                src = origin + brand + '/' + category\n",
    "                dst = destination + mapping['Combined'].loc[category]\n",
    "                for file_name in os.listdir(src):\n",
    "                    src_file = os.path.join(src, file_name)\n",
    "                    dst_file = os.path.join(dst, file_name)\n",
    "                    shutil.copy(src_file, dst_file)  \n",
    "                print(f'Completed: {brand} {category}')\n",
    "            except:\n",
    "                print(f'Failed: {brand} {category}')\n",
    "                failed.append(brand + ' ' + category)\n",
    "                continue\n",
    "    return failed"
   ]
  },
  {
   "cell_type": "code",
   "execution_count": 56,
   "metadata": {},
   "outputs": [],
   "source": [
    "#Create empty folders to transfer data into\n",
    "create_category_folders(destination, mapping)"
   ]
  },
  {
   "cell_type": "code",
   "execution_count": 57,
   "metadata": {},
   "outputs": [
    {
     "output_type": "stream",
     "name": "stdout",
     "text": [
      "Completed: Adidas Mens Jackets\n",
      "Completed: Adidas Mens Pants\n",
      "Completed: Adidas Mens Polos\n",
      "Completed: Adidas Mens Shorts\n",
      "Completed: Adidas Mens Sweatshirts & Hoodies\n",
      "Completed: Adidas Mens T-Shirts\n",
      "Completed: Adidas Womens Dresses\n",
      "Completed: Adidas Womens Jackets\n",
      "Completed: Adidas Womens Pants\n",
      "Completed: Adidas Womens Polos\n",
      "Completed: Adidas Womens Shorts\n",
      "Completed: Adidas Womens Skirts\n",
      "Completed: Adidas Womens Sweatshirts & Hoodies\n",
      "Completed: Adidas Womens T-Shirts\n",
      "Completed: BrooksBrothers Brooks-MensPants\n",
      "Completed: BrooksBrothers Brooks-MensShorts\n",
      "Completed: BrooksBrothers Brooks-MensSuits\n",
      "Completed: BrooksBrothers Brooks-WomenDresses\n",
      "Completed: BrooksBrothers Brooks-WomenKnitwear\n",
      "Completed: BrooksBrothers Brooks-WomenPants\n",
      "Completed: BrooksBrothers Brooks-WomenSkirts\n",
      "Completed: BrooksBrothers Brooks-WomensTops\n",
      "Completed: CalvinKleinMen Mens Hoodies\n",
      "Completed: CalvinKleinMen Mens Jackets\n",
      "Completed: CalvinKleinMen Mens Jeans\n",
      "Completed: CalvinKleinMen Mens Shirts\n",
      "Completed: CalvinKleinMen Mens Sweaters\n",
      "Completed: CalvinKleinMen Mens T-Shirts\n",
      "Completed: CalvinKleinMen Mens Trousers\n",
      "Completed: CalvinKleinPerformance Mens Hoodies\n",
      "Completed: CalvinKleinPerformance Mens Jackets\n",
      "Completed: CalvinKleinPerformance Mens Shorts\n",
      "Completed: CalvinKleinPerformance Mens T-Shirts\n",
      "Completed: CalvinKleinPerformance Womens Dresses\n",
      "Completed: CalvinKleinPerformance Womens Hoodies\n",
      "Completed: CalvinKleinPerformance Womens Jackets\n",
      "Completed: CalvinKleinPerformance Womens Shorts\n",
      "Completed: CalvinKleinPerformance Womens Skirts\n",
      "Completed: CalvinKleinPerformance Womens T-Shirts\n",
      "Completed: CalvinKleinWomen Womens Dresses\n",
      "Completed: CalvinKleinWomen Womens Hoodies\n",
      "Completed: CalvinKleinWomen Womens Jackets\n",
      "Completed: CalvinKleinWomen Womens Jeans\n",
      "Completed: CalvinKleinWomen Womens Skirts\n",
      "Completed: CalvinKleinWomen Womens Sweaters\n",
      "Completed: CalvinKleinWomen Womens T-Shirts\n",
      "Completed: CalvinKleinWomen Womens Tops\n",
      "Completed: CalvinKleinWomen Womens Trousers\n",
      "Completed: FredPerry Polo Shirts\n",
      "Completed: HugoBoss HugoBoss-Blouses\n",
      "Completed: HugoBoss HugoBoss-Dresses\n",
      "Completed: HugoBoss HugoBoss-MensKnitwear\n",
      "Completed: HugoBoss HugoBoss-MensShirts\n",
      "Completed: HugoBoss HugoBoss-MensShorts\n",
      "Completed: HugoBoss HugoBoss-MensSuits\n",
      "Completed: HugoBoss HugoBoss-MensTrousers\n",
      "Completed: HugoBoss HugoBoss-MensTshirts\n",
      "Completed: HugoBoss HugoBoss-Skirts\n",
      "Completed: HugoBoss HugoBoss-WomensTops\n",
      "Completed: HugoBoss HugoBoss-WomenSuits\n",
      "Completed: Max&Co Womens Coats\n",
      "Completed: Max&Co Womens Dresses\n",
      "Completed: Max&Co Womens Jackets & Blazers\n",
      "Completed: Max&Co Womens Jeans and Denim\n",
      "Completed: Max&Co Womens Jumpsuits\n",
      "Completed: Max&Co Womens Shirts Blouses & Tops\n",
      "Completed: Max&Co Womens Skirts\n",
      "Completed: Max&Co Womens Sweaters & Cardigans\n",
      "Completed: Max&Co Womens Sweatshirts & T-Shirts\n",
      "Completed: Max&Co Womens Trousers\n",
      "Completed: MaxMara Womens Dresses\n",
      "Completed: MaxMara Womens Jumpsuits\n",
      "Completed: MaxMara Womens Skirts\n",
      "Completed: MaxMara Womens Suits\n",
      "Completed: MaxMara Womens Sweaters & Cardigans\n",
      "Completed: MaxMara Womens Tops & T-Shirts\n",
      "Completed: MaxMara Womens Trousers & Jeans\n",
      "Completed: Moncler Jackets\n",
      "Completed: Muji Mens Jackets\n",
      "Completed: Muji Mens Knitwear\n",
      "Completed: Muji Mens Shirts\n",
      "Completed: Muji Mens Trousers\n",
      "Completed: Muji Womens Jackets\n",
      "Completed: Muji Womens Knitwear\n",
      "Completed: Muji Womens Shirts\n",
      "Completed: Muji Womens Trousers\n",
      "Completed: Nike Mens Hoodies & Pullovers\n",
      "Completed: Nike Mens Jackets & Vests\n",
      "Completed: Nike Mens Pants & Tights\n",
      "Completed: Nike Mens Shorts\n",
      "Completed: Nike Mens Tops & T-shirts\n",
      "Completed: Nike Womens Hoodies & Pullovers\n",
      "Completed: Nike Womens Jackets & Vests\n",
      "Completed: Nike Womens Pants & Tights\n",
      "Completed: Nike Womens Shorts\n",
      "Completed: Nike Womens Skirts\n",
      "Completed: Nike Womens Tops & T-shirts\n",
      "Completed: Saint_Laurent Mens Denim\n",
      "Completed: Saint_Laurent Mens Hats\n",
      "Completed: Saint_Laurent Mens Jackets\n",
      "Completed: Saint_Laurent Mens Jewelry\n",
      "Completed: Saint_Laurent Mens Knitwear\n",
      "Completed: Saint_Laurent Mens Leather_and_Fur\n",
      "Completed: Saint_Laurent Mens Outerwear\n",
      "Completed: Saint_Laurent Mens Pants\n",
      "Completed: Saint_Laurent Mens Polo\n",
      "Completed: Saint_Laurent Mens Shirts\n",
      "Completed: Saint_Laurent Mens Shoes\n",
      "Completed: Saint_Laurent Mens Sunglasses\n",
      "Completed: Saint_Laurent Mens Sweatshirts\n",
      "Completed: Saint_Laurent Mens T-shirt\n",
      "Completed: Saint_Laurent Womens Denim\n",
      "Completed: Saint_Laurent Womens Dresses\n",
      "Completed: Saint_Laurent Womens Handbags\n",
      "Completed: Saint_Laurent Womens Hats\n",
      "Completed: Saint_Laurent Womens Jackets\n",
      "Completed: Saint_Laurent Womens Jewellry\n",
      "Completed: Saint_Laurent Womens Knitwear\n",
      "Completed: Saint_Laurent Womens Leather_and_Fur\n",
      "Completed: Saint_Laurent Womens Outerwear\n",
      "Completed: Saint_Laurent Womens Shirts_and_Blouses\n",
      "Completed: Saint_Laurent Womens Shoes\n",
      "Completed: Saint_Laurent Womens Shorts\n",
      "Completed: Saint_Laurent Womens Skirts\n",
      "Completed: Saint_Laurent Womens Sunglasses\n",
      "Completed: Saint_Laurent Womens Sweatshirts\n",
      "Completed: Saint_Laurent Womens T-Shirts\n",
      "Completed: Saint_Laurent Womens Trousers\n",
      "Completed: Uniqlo Mens Blazer_Cardigan_Coats\n",
      "Completed: Uniqlo Mens Casual Outers\n",
      "Completed: Uniqlo Mens Casual Pants\n",
      "Completed: Uniqlo Mens Casual-shirts\n",
      "Completed: Uniqlo Mens Formal-shirts\n",
      "Completed: Uniqlo Mens Jeans\n",
      "Completed: Uniqlo Mens Longsleeves\n",
      "Completed: Uniqlo Mens Polo-shirt\n",
      "Completed: Uniqlo Mens Shorts\n",
      "Completed: Uniqlo Mens T-shirts_tanktops\n",
      "Completed: Uniqlo Mens Trousers\n",
      "Completed: Uniqlo Womens Blazer_Cardigan_Coats\n",
      "Completed: Uniqlo Womens Casual Outers\n",
      "Completed: Uniqlo Womens Jeans\n",
      "Completed: Uniqlo Womens Longsleeves\n",
      "Completed: Uniqlo Womens Shirts_Blouses\n",
      "Completed: Uniqlo Womens Shorts\n",
      "Completed: Uniqlo Womens Skirts\n",
      "Completed: Uniqlo Womens Sweatwears\n",
      "Completed: Uniqlo Womens T-shirt_tanktops\n"
     ]
    }
   ],
   "source": [
    "#Copy files over based on the mapping table\n",
    "failed = copy_files(origin, destination, mapping)"
   ]
  },
  {
   "cell_type": "code",
   "execution_count": 58,
   "metadata": {},
   "outputs": [
    {
     "output_type": "execute_result",
     "data": {
      "text/plain": [
       "[]"
      ]
     },
     "metadata": {},
     "execution_count": 58
    }
   ],
   "source": [
    "#Check if any folders failed to copy over\n",
    "failed"
   ]
  },
  {
   "cell_type": "code",
   "execution_count": null,
   "metadata": {},
   "outputs": [],
   "source": []
  }
 ]
}