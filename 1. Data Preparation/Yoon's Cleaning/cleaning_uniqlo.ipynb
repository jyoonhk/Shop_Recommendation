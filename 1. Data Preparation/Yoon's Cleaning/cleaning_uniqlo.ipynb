{
 "metadata": {
  "language_info": {
   "codemirror_mode": {
    "name": "ipython",
    "version": 3
   },
   "file_extension": ".py",
   "mimetype": "text/x-python",
   "name": "python",
   "nbconvert_exporter": "python",
   "pygments_lexer": "ipython3",
   "version": "3.8.5"
  },
  "orig_nbformat": 2,
  "kernelspec": {
   "name": "python385jvsc74a57bd0ae04ee68dffee34b20423ee6009830f7967d7857e9eaf0705903c4e3b1f453d9",
   "display_name": "Python 3.8.5 64-bit ('FTDS': conda)"
  }
 },
 "nbformat": 4,
 "nbformat_minor": 2,
 "cells": [
  {
   "cell_type": "code",
   "execution_count": 19,
   "metadata": {},
   "outputs": [],
   "source": [
    "import pandas as pd"
   ]
  },
  {
   "cell_type": "code",
   "execution_count": 20,
   "metadata": {},
   "outputs": [],
   "source": [
    "df = pd.read_csv(\"Uniqlo.csv\")"
   ]
  },
  {
   "cell_type": "code",
   "execution_count": 21,
   "metadata": {},
   "outputs": [
    {
     "output_type": "execute_result",
     "data": {
      "text/plain": [
       "     Unnamed: 0   ID    Shop   Clothing Category  \\\n",
       "0             0    0  Uniqlo  Mens Casual Outers   \n",
       "1             0    1  Uniqlo  Mens Casual Outers   \n",
       "2             0    2  Uniqlo  Mens Casual Outers   \n",
       "3             0    3  Uniqlo  Mens Casual Outers   \n",
       "4             0    4  Uniqlo  Mens Casual Outers   \n",
       "..          ...  ...     ...                 ...   \n",
       "533           0  533  Uniqlo   Womens Sweatwears   \n",
       "534           0  534  Uniqlo   Womens Sweatwears   \n",
       "535           0  535  Uniqlo   Womens Sweatwears   \n",
       "536           0  536  Uniqlo   Womens Sweatwears   \n",
       "537           0  537  Uniqlo   Womens Sweatwears   \n",
       "\n",
       "                                               Brand      Price  \\\n",
       "0     POCKETABLE UV PROTECTION PARKA (3D CUT) 433061  HK$249.00   \n",
       "1     POCKETABLE UV PROTECTION PARKA (3D CUT) 437191  HK$249.00   \n",
       "2       POCKETABLE UV PROTECTION ANORAK PARKA 435624  HK$199.00   \n",
       "3                     POCKETABLE UV CUT PARKA 425418  HK$149.00   \n",
       "4                     POCKETABLE UV CUT PARKA 425028  HK$149.00   \n",
       "..                                               ...        ...   \n",
       "533       +J CREW NECK LONG SLEEVE SWEATSHIRT 437841  HK$199.00   \n",
       "534  +J DRY SWEAT LONG SLEEVE FULL-ZIP HOODIE 437843  HK$299.00   \n",
       "535                        +J DRY SWEAT PANTS 437842  HK$199.00   \n",
       "536            +J DRY SWEAT LONG SLEEVE DRESS 437797  HK$199.00   \n",
       "537        U CREW NECK LONG SLEEVE SWEATSHIRT 437096   HK$59.00   \n",
       "\n",
       "                                             Image URL  \n",
       "0    https://www.uniqlo.com.hk/hmall/test/u00000000...  \n",
       "1    https://www.uniqlo.com.hk/hmall/test/u00000000...  \n",
       "2    https://www.uniqlo.com.hk/hmall/test/u00000000...  \n",
       "3    https://www.uniqlo.com.hk/hmall/test/u00000000...  \n",
       "4    https://www.uniqlo.com.hk/hmall/test/u00000000...  \n",
       "..                                                 ...  \n",
       "533  https://www.uniqlo.com.hk/hmall/test/u00000000...  \n",
       "534  https://www.uniqlo.com.hk/hmall/test/u00000000...  \n",
       "535  https://www.uniqlo.com.hk/hmall/test/u00000000...  \n",
       "536  https://www.uniqlo.com.hk/hmall/test/u00000000...  \n",
       "537  https://www.uniqlo.com.hk/hmall/test/u00000000...  \n",
       "\n",
       "[538 rows x 7 columns]"
      ],
      "text/html": "<div>\n<style scoped>\n    .dataframe tbody tr th:only-of-type {\n        vertical-align: middle;\n    }\n\n    .dataframe tbody tr th {\n        vertical-align: top;\n    }\n\n    .dataframe thead th {\n        text-align: right;\n    }\n</style>\n<table border=\"1\" class=\"dataframe\">\n  <thead>\n    <tr style=\"text-align: right;\">\n      <th></th>\n      <th>Unnamed: 0</th>\n      <th>ID</th>\n      <th>Shop</th>\n      <th>Clothing Category</th>\n      <th>Brand</th>\n      <th>Price</th>\n      <th>Image URL</th>\n    </tr>\n  </thead>\n  <tbody>\n    <tr>\n      <th>0</th>\n      <td>0</td>\n      <td>0</td>\n      <td>Uniqlo</td>\n      <td>Mens Casual Outers</td>\n      <td>POCKETABLE UV PROTECTION PARKA (3D CUT) 433061</td>\n      <td>HK$249.00</td>\n      <td>https://www.uniqlo.com.hk/hmall/test/u00000000...</td>\n    </tr>\n    <tr>\n      <th>1</th>\n      <td>0</td>\n      <td>1</td>\n      <td>Uniqlo</td>\n      <td>Mens Casual Outers</td>\n      <td>POCKETABLE UV PROTECTION PARKA (3D CUT) 437191</td>\n      <td>HK$249.00</td>\n      <td>https://www.uniqlo.com.hk/hmall/test/u00000000...</td>\n    </tr>\n    <tr>\n      <th>2</th>\n      <td>0</td>\n      <td>2</td>\n      <td>Uniqlo</td>\n      <td>Mens Casual Outers</td>\n      <td>POCKETABLE UV PROTECTION ANORAK PARKA 435624</td>\n      <td>HK$199.00</td>\n      <td>https://www.uniqlo.com.hk/hmall/test/u00000000...</td>\n    </tr>\n    <tr>\n      <th>3</th>\n      <td>0</td>\n      <td>3</td>\n      <td>Uniqlo</td>\n      <td>Mens Casual Outers</td>\n      <td>POCKETABLE UV CUT PARKA 425418</td>\n      <td>HK$149.00</td>\n      <td>https://www.uniqlo.com.hk/hmall/test/u00000000...</td>\n    </tr>\n    <tr>\n      <th>4</th>\n      <td>0</td>\n      <td>4</td>\n      <td>Uniqlo</td>\n      <td>Mens Casual Outers</td>\n      <td>POCKETABLE UV CUT PARKA 425028</td>\n      <td>HK$149.00</td>\n      <td>https://www.uniqlo.com.hk/hmall/test/u00000000...</td>\n    </tr>\n    <tr>\n      <th>...</th>\n      <td>...</td>\n      <td>...</td>\n      <td>...</td>\n      <td>...</td>\n      <td>...</td>\n      <td>...</td>\n      <td>...</td>\n    </tr>\n    <tr>\n      <th>533</th>\n      <td>0</td>\n      <td>533</td>\n      <td>Uniqlo</td>\n      <td>Womens Sweatwears</td>\n      <td>+J CREW NECK LONG SLEEVE SWEATSHIRT 437841</td>\n      <td>HK$199.00</td>\n      <td>https://www.uniqlo.com.hk/hmall/test/u00000000...</td>\n    </tr>\n    <tr>\n      <th>534</th>\n      <td>0</td>\n      <td>534</td>\n      <td>Uniqlo</td>\n      <td>Womens Sweatwears</td>\n      <td>+J DRY SWEAT LONG SLEEVE FULL-ZIP HOODIE 437843</td>\n      <td>HK$299.00</td>\n      <td>https://www.uniqlo.com.hk/hmall/test/u00000000...</td>\n    </tr>\n    <tr>\n      <th>535</th>\n      <td>0</td>\n      <td>535</td>\n      <td>Uniqlo</td>\n      <td>Womens Sweatwears</td>\n      <td>+J DRY SWEAT PANTS 437842</td>\n      <td>HK$199.00</td>\n      <td>https://www.uniqlo.com.hk/hmall/test/u00000000...</td>\n    </tr>\n    <tr>\n      <th>536</th>\n      <td>0</td>\n      <td>536</td>\n      <td>Uniqlo</td>\n      <td>Womens Sweatwears</td>\n      <td>+J DRY SWEAT LONG SLEEVE DRESS 437797</td>\n      <td>HK$199.00</td>\n      <td>https://www.uniqlo.com.hk/hmall/test/u00000000...</td>\n    </tr>\n    <tr>\n      <th>537</th>\n      <td>0</td>\n      <td>537</td>\n      <td>Uniqlo</td>\n      <td>Womens Sweatwears</td>\n      <td>U CREW NECK LONG SLEEVE SWEATSHIRT 437096</td>\n      <td>HK$59.00</td>\n      <td>https://www.uniqlo.com.hk/hmall/test/u00000000...</td>\n    </tr>\n  </tbody>\n</table>\n<p>538 rows × 7 columns</p>\n</div>"
     },
     "metadata": {},
     "execution_count": 21
    }
   ],
   "source": [
    "df"
   ]
  },
  {
   "cell_type": "code",
   "execution_count": null,
   "metadata": {},
   "outputs": [],
   "source": []
  },
  {
   "cell_type": "code",
   "execution_count": 22,
   "metadata": {},
   "outputs": [],
   "source": [
    "df = df.rename(columns = {\"Brand\":\"Name\", \"Shop\":\"Brand\", \"Clothing Category\":\"Category\"})\n",
    "df.drop(columns= \"Unnamed: 0\", inplace=True)\n"
   ]
  },
  {
   "cell_type": "code",
   "execution_count": 23,
   "metadata": {},
   "outputs": [],
   "source": [
    "def gender(row):\n",
    "    if \"Mens\" in row['Category']:\n",
    "        return \"Men\"\n",
    "    if \"Womens\" in row[\"Category\"]:\n",
    "        return \"Women\"\n",
    "    return \"Other\"\n",
    "\n",
    "df[\"Gender\"] = df.apply(lambda row: gender(row), axis=1)"
   ]
  },
  {
   "cell_type": "code",
   "execution_count": 24,
   "metadata": {},
   "outputs": [
    {
     "output_type": "stream",
     "name": "stderr",
     "text": [
      "<ipython-input-24-9faaf374b4f8>:1: FutureWarning: The default value of regex will change from True to False in a future version.\n  df['Price'] = df['Price'].str.replace(r'[^0-9]+', '').astype(int)\n"
     ]
    }
   ],
   "source": [
    "df['Price'] = df['Price'].str.replace(r'[^0-9]+', '').astype(int)"
   ]
  },
  {
   "cell_type": "code",
   "execution_count": 26,
   "metadata": {},
   "outputs": [],
   "source": [
    "df['Category']=df['Category'].str.replace(\"Mens\",\"\")\n",
    "df['Category']=df['Category'].str.replace(\"Womens\",\"\")"
   ]
  },
  {
   "cell_type": "code",
   "execution_count": 27,
   "metadata": {},
   "outputs": [],
   "source": [
    "def category(row):\n",
    "    if \"Casual Outers\" in row[\"Category\"]:\n",
    "        return \"Jackets & Coats\"\n",
    "    if \"Blazer/Cardigan/Coats\" in row[\"Category\"]:\n",
    "        return \"Jackets & Coats\"\n",
    "    if \"Shorts\" in row[\"Category\"]:\n",
    "        return \"Shorts\"\n",
    "    if \"Jeans\" in row[\"Category\"]:\n",
    "        return \"Jeans\"\n",
    "    if \"Casual Pants\" in row[\"Category\"]:\n",
    "        return \"Trousers\"\n",
    "    if \"Trousers\" in row[\"Category\"]:\n",
    "        return \"Trousers\"\n",
    "    if \"T-shirts/Tank-tops\" in row[\"Category\"]:\n",
    "        return \"T-Shirts\"\n",
    "    if \"T-shirt/Tank-tops\" in row[\"Category\"]:\n",
    "        return \"T-Shirts\"\n",
    "    if \"Polo-shirt\" in row[\"Category\"]:\n",
    "        return \"Polos\"\n",
    "    if \"Longsleeves\" in row[\"Category\"]:\n",
    "        return \"Shirts\"\n",
    "    if \"Casual-shirts\" in row[\"Category\"]:\n",
    "        return \"Shirts\"\n",
    "    if \"Formal-shirts\" in row[\"Category\"]:\n",
    "        return \"Shirts\"\n",
    "    if \"Skirts\" in row[\"Category\"]:\n",
    "        return \"Skirts\"\n",
    "    if \"Shirts/Blouses\" in row[\"Category\"]:\n",
    "        return \"Blouses\"\n",
    "    if \"Sweatwears\" in row[\"Category\"]:\n",
    "        return \"Jumpers\"\n",
    "    return \"Other\""
   ]
  },
  {
   "cell_type": "code",
   "execution_count": 28,
   "metadata": {},
   "outputs": [],
   "source": [
    "df[\"Category\"]=df.apply(lambda row:category(row), axis=1)"
   ]
  },
  {
   "cell_type": "code",
   "execution_count": 32,
   "metadata": {},
   "outputs": [],
   "source": [
    "df = df[[\"ID\", \"Brand\", \"Gender\", \"Category\", \"Name\", \"Image URL\", \"Price\"]]"
   ]
  },
  {
   "cell_type": "code",
   "execution_count": 33,
   "metadata": {},
   "outputs": [],
   "source": [
    "df.to_csv(\"Uniqlo_final.csv\",index=False)"
   ]
  },
  {
   "cell_type": "code",
   "execution_count": 35,
   "metadata": {},
   "outputs": [],
   "source": [
    "df1 = pd.read_csv(\"Saint_Laurent_Final.csv\")"
   ]
  },
  {
   "cell_type": "code",
   "execution_count": 39,
   "metadata": {},
   "outputs": [],
   "source": [
    "df2 = df1.append(df)"
   ]
  },
  {
   "cell_type": "code",
   "execution_count": 41,
   "metadata": {},
   "outputs": [],
   "source": [
    "df2.to_csv(\"Combined.csv\",index=False)"
   ]
  }
 ]
}